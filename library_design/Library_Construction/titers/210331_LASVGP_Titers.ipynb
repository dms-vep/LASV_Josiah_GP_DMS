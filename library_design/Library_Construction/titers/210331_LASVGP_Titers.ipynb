{
 "cells": [
  {
   "cell_type": "markdown",
   "metadata": {},
   "source": [
    "# Titer analysis of LASV GP pseudotyped lentivirus\n",
    "\n",
    "This notebook analyzes data from 3 experiments:\n",
    "\n",
    "1. Titering WT virus from transfection and recovery as well as library viruses from transfection in 293Ts with LAMP1, alpha-dystroglycan, or both added.\n",
    "\n",
    "2. Titering library viruses from transfection.\n",
    "\n",
    "3. Titering recovered library viruses."
   ]
  },
  {
   "cell_type": "code",
   "execution_count": null,
   "metadata": {},
   "outputs": [],
   "source": [
    "import os\n",
    "import warnings\n",
    "\n",
    "import pandas as pd\n",
    "import numpy as np\n",
    "\n",
    "from plotnine import *\n",
    "\n",
    "from IPython.display import Image"
   ]
  },
  {
   "cell_type": "code",
   "execution_count": null,
   "metadata": {},
   "outputs": [],
   "source": [
    "warnings.simplefilter('ignore')"
   ]
  },
  {
   "cell_type": "code",
   "execution_count": null,
   "metadata": {},
   "outputs": [],
   "source": [
    "royal2 = (\"#9A8822\", \"#F5CDB4\", \"#F8AFA8\", \"#FDDDA0\", \"#74A089\")\n",
    "CBP = ('#999999', '#E69F00', '#56B4E9', '#009E73', '#F0E442', '#0072B2', '#D55E00', '#CC79A7')"
   ]
  },
  {
   "cell_type": "code",
   "execution_count": null,
   "metadata": {},
   "outputs": [],
   "source": [
    "theme_set(theme_seaborn(style='white', context='talk', font_scale=1))"
   ]
  },
  {
   "cell_type": "markdown",
   "metadata": {},
   "source": [
    "## Read in titer data"
   ]
  },
  {
   "cell_type": "code",
   "execution_count": null,
   "metadata": {},
   "outputs": [],
   "source": [
    "dif_cells = pd.read_csv('./titer_csvs/210330_GP_DifCellLines_Titers.csv')\n",
    "tfct_libs = pd.read_csv('./titer_csvs/210301_LibTiteringTableTfct_calc.csv')\n",
    "rec_libs = pd.read_csv('./titer_csvs/210322_rectiters_csv.csv')"
   ]
  },
  {
   "cell_type": "code",
   "execution_count": null,
   "metadata": {},
   "outputs": [],
   "source": [
    "# dif_cells['Virus'] = dif_cells['Virus'].astype('int')\n",
    "dif_cells['Virus'] = dif_cells['Virus'].replace({1.0: 'A NoHPs',\n",
    "                                                 2.0: 'Rec re-opt FJ',\n",
    "                                                 3.0: 'Tfct re-opt FJ',\n",
    "                                                 4.0: 'Rec re-opt FJ',\n",
    "                                                 5.0: 'Tfct re-opt FJ',\n",
    "                                                 6.0: 'LibA',\n",
    "                                                 7.0: 'LibB',\n",
    "                                                 8.0: 'LibA',\n",
    "                                                 9.0: 'LibB',\n",
    "                                                 10.0: '1890',\n",
    "                                                 11.0: 'NoVEP',\n",
    "                                                 12.0: 'B NoHPs'})\n",
    "display(dif_cells.head())\n",
    "display(tfct_libs.head())\n",
    "display(rec_libs.head())"
   ]
  },
  {
   "cell_type": "code",
   "execution_count": null,
   "metadata": {},
   "outputs": [],
   "source": [
    "exclude = ['A NoHPs', 'B NoHPs', 'NoVEP']\n",
    "\n",
    "dif_cells_plot = (ggplot(dif_cells[~dif_cells['Virus'].isin(exclude)], aes(x='Virus', y='Titer', fill='Transfection')) +\n",
    "                  geom_point(size=3, position=position_dodge(width=0.5, preserve='total')) +\n",
    "                  scale_fill_manual(values=CBP) +\n",
    "                  theme(axis_text_x=element_text(angle=90, vjust=1, hjust=0.5),\n",
    "                       figure_size=(8, 4)) +\n",
    "                  scale_y_log10(limits=[1e0, 1e7], breaks=[1e0, 1e1, 1e2, 1e3, 1e4, 1e5, 1e6, 1e7]) +\n",
    "                  facet_wrap('VSVG?', ncol=2,labeller={'N': 'No VSV G', 'Y': '+ VSV G'}) +\n",
    "#                   geom_hline(yintercept=120, linetype='dashed', color='grey') + # LoD of 120 = 6 positive cells in 1:3 dilution\n",
    "#                   geom_hline(yintercept=1e3, linetype='dashed', color='lightgreen') + \n",
    "                  ylab('TU per mL') +\n",
    "                  xlab('Backbone') +\n",
    "                  ggtitle('Library Titers from Transfection'))\n",
    "\n",
    "_ = dif_cells_plot.draw()"
   ]
  },
  {
   "cell_type": "markdown",
   "metadata": {},
   "source": [
    "There is no difference in titer in the different cell lines.\n",
    "\n",
    "Note that the negative control viruses are excluded from this plot. The 1890+HPs \"NoVEP\" viruses had a lot of the low-level shoulder bleed-through, so titers look high (almost 1e4), but there was no actual infection. "
   ]
  },
  {
   "cell_type": "code",
   "execution_count": null,
   "metadata": {},
   "outputs": [],
   "source": [
    "exclude_tubes = ['A3', 'B3', 'A6', 'B6']\n",
    "\n",
    "tfct_titers_plot = (ggplot(tfct_libs[(tfct_libs['Backbone'] != 'ZsGreen') &\n",
    "                                     (~tfct_libs['TubeName'].isin(exclude_tubes))],\n",
    "                           aes(x='VSVG', y='Titer', fill='Backbone')) +\n",
    "                  geom_point(size=4, position=position_dodge(width=0.5, preserve='total')) +\n",
    "                  scale_fill_manual(values=[royal2[4], royal2[3]]) +\n",
    "                  theme(axis_text_x=element_text(angle=0, vjust=1, hjust=0.5),\n",
    "                       figure_size=(4, 4)) +\n",
    "                  scale_y_log10(limits=[1e0, 1e7], breaks=[1e0, 1e1, 1e2, 1e3, 1e4, 1e5, 1e6, 1e7]) +\n",
    "#                   facet_wrap('~CellsInfected', ncol=3) +\n",
    "#                   geom_hline(yintercept=120, linetype='dashed', color='grey') + # LoD of 120 = 6 positive cells in 1:3 dilution\n",
    "#                   geom_hline(yintercept=1e3, linetype='dashed', color='lightgreen') + \n",
    "                  ylab('transduciton units per mL') +\n",
    "                  xlab('VSV G Added?') +\n",
    "                  ggtitle('Library Titers from Transfection'))\n",
    "\n",
    "_ = tfct_titers_plot.draw()\n",
    "tfct_titers_plot.save('./pdf_figs/210331_lib-titers-tfct.pdf')"
   ]
  },
  {
   "cell_type": "code",
   "execution_count": null,
   "metadata": {},
   "outputs": [],
   "source": [
    "# exclude_tubes = ['A3', 'B3', 'A6', 'B6']\n",
    "sample_list = ['HPs, no dox', 'HPs + dox',\n",
    "               'HPs + VSV G', 'HPs + VSV G + dox',\n",
    "               'HPs + ZsGreen bb', 'HPs + ZsGreen + dox',               \n",
    "               'HPs + FJ + dox', 'HPs + FJ + VSV G',\n",
    "               'HPs + ZsGreen + VSV G', 'No HPs + dox']\n",
    "sample_cat = pd.Categorical(rec_libs['SampleName'], categories=sample_list)\n",
    "\n",
    "# assign to a new column in the DataFrame\n",
    "rec_libs = rec_libs.assign(sample_cat = sample_cat)\n",
    "\n",
    "rec_titers_plot_all = (ggplot(rec_libs,\n",
    "                          aes(x='sample_cat', y='Titer', fill='Library', shape='Dox')) +\n",
    "                  geom_point(size=5, position=position_dodge(width=0.5, preserve='total')) +\n",
    "                  scale_fill_manual(values=[royal2[4], royal2[3]]) +\n",
    "                  theme(axis_text_x=element_text(angle=90, vjust=1, hjust=0.5),\n",
    "                       plot_title=element_text(size=30),figure_size=(10, 6)) +\n",
    "                  scale_y_log10(limits=[1e0, 5e7], breaks=[1e0, 1e1, 1e2, 1e3, 1e4, 1e5, 1e6, 1e7]) +\n",
    "#                   facet_wrap('Library', ncol=2) +\n",
    "                  geom_hline(yintercept=50, linetype='dashed', color='grey') + # LoD of 120 = 6 positive cells in 1:3 dilution\n",
    "#                   geom_hline(yintercept=1e3, linetype='dashed', color='lightgreen') + \n",
    "                  ylab('transduciton units per mL') +\n",
    "                  xlab('Sample Category') +\n",
    "                  ggtitle('Library Titers from Transduced Cells'))\n",
    "\n",
    "_ = rec_titers_plot_all.draw()\n",
    "rec_titers_plot_all.save('./pdf_figs/210331_lib1-titers-rec.pdf')"
   ]
  },
  {
   "cell_type": "code",
   "execution_count": null,
   "metadata": {},
   "outputs": [],
   "source": [
    "exclude_samples = ['HPs + ZsGreen bb', 'HPs + ZsGreen + dox','HPs + FJ + dox', 'HPs + FJ + VSV G', 'HPs + ZsGreen + VSV G', 'No HPs + dox']\n",
    "rec_titers_plot_poster = (ggplot(rec_libs[~rec_libs['sample_cat'].isin(exclude_samples)],\n",
    "                          aes(x='sample_cat', y='Titer', fill='Library', shape='Dox')) +\n",
    "                  geom_point(size=5, position=position_dodge(width=0.5, preserve='total')) +\n",
    "                  scale_fill_manual(values=[royal2[4], royal2[3]]) +\n",
    "                  theme(axis_text_x=element_text(angle=90, vjust=1, hjust=0.5, size=18),\n",
    "                        axis_text_y=element_text(size=18),\n",
    "                        axis_title_x=element_text(size=22),\n",
    "                        axis_title_y=element_text(size=22),\n",
    "                        plot_title=element_text(size=24),\n",
    "                        figure_size=(5, 4)) +\n",
    "                  scale_y_log10(limits=[1e0, 1e7], breaks=[1e0, 1e1, 1e2, 1e3, 1e4, 1e5, 1e6, 1e7]) +\n",
    "#                   facet_wrap('Library', ncol=2) +\n",
    "#                   geom_hline(yintercept=50, linetype='dashed', color='grey') + # LoD of 120 = 6 positive cells in 1:3 dilution\n",
    "#                   geom_hline(yintercept=1e3, linetype='dashed', color='lightgreen') + \n",
    "                  ylab('transduciton units\\nper mL') +\n",
    "                  xlab('Transfection Conditions') +\n",
    "                  ggtitle('Library Titers from Transduced Cells'))\n",
    "\n",
    "_ = rec_titers_plot_poster.draw()\n",
    "rec_titers_plot_poster.save('./pdf_figs/210331_lib1-titers-rec-poster.pdf')"
   ]
  },
  {
   "cell_type": "markdown",
   "metadata": {},
   "source": [
    "#### "
   ]
  },
  {
   "cell_type": "code",
   "execution_count": null,
   "metadata": {},
   "outputs": [],
   "source": [
    "display(rec_libs[(rec_libs['sample_cat'] == 'HPs + dox') |\n",
    "               (rec_libs['sample_cat'] == 'HPs + VSV G')].sort_values('Library')[['Library', 'SampleName', 'Titer']])"
   ]
  },
  {
   "cell_type": "code",
   "execution_count": null,
   "metadata": {},
   "outputs": [],
   "source": []
  },
  {
   "cell_type": "code",
   "execution_count": null,
   "metadata": {},
   "outputs": [],
   "source": []
  },
  {
   "cell_type": "code",
   "execution_count": null,
   "metadata": {},
   "outputs": [],
   "source": []
  }
 ],
 "metadata": {
  "kernelspec": {
   "display_name": "Python 3",
   "language": "python",
   "name": "python3"
  },
  "language_info": {
   "codemirror_mode": {
    "name": "ipython",
    "version": 3
   },
   "file_extension": ".py",
   "mimetype": "text/x-python",
   "name": "python",
   "nbconvert_exporter": "python",
   "pygments_lexer": "ipython3",
   "version": "3.8.8"
  }
 },
 "nbformat": 4,
 "nbformat_minor": 4
}
