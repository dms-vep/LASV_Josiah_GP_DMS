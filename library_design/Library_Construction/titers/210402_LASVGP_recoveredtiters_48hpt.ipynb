{
 "cells": [
  {
   "cell_type": "markdown",
   "metadata": {},
   "source": [
    "# Titer analysis of recovered LASV GP pseudotyped lentivirus\n",
    "\n",
    "This notebook analyzes titer data for recovered libraries harvested at **48 hpt** from all 6 libraries (A-1, B-1, A-2-1, A-2-2, B-2-1, B-2-2). \n",
    "\n",
    "These viruses were harvested in late March 2021."
   ]
  },
  {
   "cell_type": "code",
   "execution_count": null,
   "metadata": {},
   "outputs": [],
   "source": [
    "import os\n",
    "import warnings\n",
    "\n",
    "import pandas as pd\n",
    "import numpy as np\n",
    "\n",
    "from plotnine import *\n",
    "\n",
    "from IPython.display import Image"
   ]
  },
  {
   "cell_type": "code",
   "execution_count": null,
   "metadata": {},
   "outputs": [],
   "source": [
    "warnings.simplefilter('ignore')"
   ]
  },
  {
   "cell_type": "code",
   "execution_count": null,
   "metadata": {},
   "outputs": [],
   "source": [
    "royal2 = (\"#9A8822\", \"#F5CDB4\", \"#F8AFA8\", \"#FDDDA0\", \"#74A089\")\n",
    "CBP = ('#999999', '#E69F00', '#56B4E9', '#009E73', '#F0E442', '#0072B2', '#D55E00', '#CC79A7')"
   ]
  },
  {
   "cell_type": "code",
   "execution_count": null,
   "metadata": {},
   "outputs": [],
   "source": [
    "theme_set(theme_seaborn(style='white', context='talk', font_scale=1))"
   ]
  },
  {
   "cell_type": "markdown",
   "metadata": {},
   "source": [
    "## Read in csv of titer data"
   ]
  },
  {
   "cell_type": "code",
   "execution_count": null,
   "metadata": {},
   "outputs": [],
   "source": [
    "titers_df = pd.read_csv('./titer_csvs/210402_Libraries_48hpt_titers.csv').drop('Unnamed: 15', axis=1).drop([55, 56], axis=0)\n",
    "display(titers_df.head())\n",
    "print(titers_df['SampleCat'].unique())"
   ]
  },
  {
   "cell_type": "code",
   "execution_count": null,
   "metadata": {},
   "outputs": [],
   "source": [
    "sample_list = ['HPs, No dox', 'HPs + dox',\n",
    "               'HPs + ZsG', 'HPs + ZsG + dox',                              \n",
    "               'HPs + VSV G', 'HPs + VSV G + dox','HPs + ZsG + V', 'NoHPs',\n",
    "               'ZsG + WT GP', 'ZsG + Y150D GP', 'ZsG + VSV G', 'HPs + FJ + Dox',\n",
    "               'HPs + FJ + V', 'NoVEP']\n",
    "sample_order = pd.Categorical(titers_df['SampleCat'], categories=sample_list)\n",
    "\n",
    "# assign to a new column in the DataFrame\n",
    "titers_df = titers_df.assign(sample_order = sample_order)\n",
    "\n",
    "all_libs_plot = (ggplot(titers_df[titers_df['CellLine'] != 'M3'],\n",
    "                          aes(x='sample_order', y='Titer', fill='CellLine', shape='Dox')) +\n",
    "                  geom_point(size=5, position=position_dodge(width=0.5, preserve='total')) +\n",
    "                  scale_fill_manual(values=CBP) +\n",
    "                  theme(axis_text_x=element_text(angle=90, vjust=1, hjust=0.5),\n",
    "                       plot_title=element_text(size=30),figure_size=(10, 6)) +\n",
    "                  scale_y_log10(limits=[1e0, 2e7], breaks=[1e0, 1e1, 1e2, 1e3, 1e4, 1e5, 1e6, 1e7]) +\n",
    "#                   facet_wrap('Library', ncol=2) +\n",
    "                  geom_hline(yintercept=10, linetype='dashed', color='grey') + \n",
    "#                   geom_hline(yintercept=1e3, linetype='dashed', color='lightgreen') + \n",
    "                  ylab('transduciton units per mL') +\n",
    "                  xlab('Sample Category') +\n",
    "                  ggtitle('Library Titers from Transduced Cells'))\n",
    "\n",
    "_ = all_libs_plot.draw()\n"
   ]
  },
  {
   "cell_type": "code",
   "execution_count": null,
   "metadata": {},
   "outputs": [],
   "source": [
    "exclude_samples = ['HPs + ZsG', 'HPs + ZsG + dox','HPs + FJ + dox', 'HPs + FJ + VSV G', 'HPs + ZsG + V', 'NoHPs']\n",
    "rec_titers_plot_poster = (ggplot(titers_df[(~titers_df['sample_order'].isin(exclude_samples)) & (titers_df['CellLine'] != 'M3')],\n",
    "                          aes(x='sample_order', y='Titer', fill='CellLine', shape='Dox')) +\n",
    "                  geom_point(size=5, position=position_dodge(width=0.5, preserve='total')) +\n",
    "                  scale_fill_manual(values=CBP) +\n",
    "                  theme(axis_text_x=element_text(angle=90, vjust=1, hjust=0.5, size=18),\n",
    "                        axis_text_y=element_text(size=18),\n",
    "                        axis_title_x=element_text(size=22),\n",
    "                        axis_title_y=element_text(size=22),\n",
    "                        plot_title=element_text(size=24),\n",
    "                        figure_size=(8, 5)) +\n",
    "                  scale_y_log10(limits=[1e0, 1e7], breaks=[1e0, 1e1, 1e2, 1e3, 1e4, 1e5, 1e6, 1e7]) +\n",
    "#                   facet_wrap('Library', ncol=2) +\n",
    "#                   geom_hline(yintercept=50, linetype='dashed', color='grey') + # LoD of 120 = 6 positive cells in 1:3 dilution\n",
    "#                   geom_hline(yintercept=1e3, linetype='dashed', color='lightgreen') + \n",
    "                  ylab('transduciton units\\nper mL') +\n",
    "                  xlab('Transfection Conditions') +\n",
    "                  ggtitle('Library Titers from Transduced Cells'))\n",
    "\n",
    "_ = rec_titers_plot_poster.draw()"
   ]
  },
  {
   "cell_type": "code",
   "execution_count": null,
   "metadata": {},
   "outputs": [],
   "source": [
    "display(titers_df[(titers_df['SampleCat'] == 'HPs + dox') | \n",
    "                  (titers_df['SampleCat'] == 'HPs + VSV G')].sort_values('CellLine')[['CellLine', 'SampleCat', 'Titer']])"
   ]
  },
  {
   "cell_type": "code",
   "execution_count": null,
   "metadata": {},
   "outputs": [],
   "source": [
    "M3_ctrl_plot = (ggplot(titers_df[titers_df['CellLine'] == 'M3'],\n",
    "                          aes(x='sample_order', y='Titer', fill='VSVG')) +\n",
    "                  geom_point(size=5, position=position_dodge(width=0.5, preserve='total')) +\n",
    "                  scale_fill_manual(values=[royal2[4], royal2[3]]) +\n",
    "                  theme(axis_text_x=element_text(angle=90, vjust=1, hjust=0.5),\n",
    "                       plot_title=element_text(size=30),figure_size=(10, 6)) +\n",
    "                  scale_y_log10(limits=[1e0, 2e7], breaks=[1e0, 1e1, 1e2, 1e3, 1e4, 1e5, 1e6, 1e7]) +\n",
    "#                   facet_wrap('Library', ncol=2) +\n",
    "                  geom_hline(yintercept=50, linetype='dashed', color='grey') + \n",
    "#                   geom_hline(yintercept=1e3, linetype='dashed', color='lightgreen') + \n",
    "                  ylab('transduciton units per mL') +\n",
    "                  xlab('Sample Category') +\n",
    "                  ggtitle('Control Titers from M3 Cells'))\n",
    "\n",
    "_ = M3_ctrl_plot.draw()\n"
   ]
  },
  {
   "cell_type": "code",
   "execution_count": null,
   "metadata": {},
   "outputs": [],
   "source": []
  }
 ],
 "metadata": {
  "kernelspec": {
   "display_name": "Python 3",
   "language": "python",
   "name": "python3"
  },
  "language_info": {
   "codemirror_mode": {
    "name": "ipython",
    "version": 3
   },
   "file_extension": ".py",
   "mimetype": "text/x-python",
   "name": "python",
   "nbconvert_exporter": "python",
   "pygments_lexer": "ipython3",
   "version": "3.8.8"
  }
 },
 "nbformat": 4,
 "nbformat_minor": 4
}
