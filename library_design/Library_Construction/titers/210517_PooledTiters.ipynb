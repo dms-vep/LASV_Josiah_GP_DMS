{
 "cells": [
  {
   "cell_type": "markdown",
   "id": "a224fc5f",
   "metadata": {},
   "source": [
    "# Pseudotyped lentivirus titers\n",
    "\n",
    "## Titers of pooled recovered LASV GP pseudotyped lentivirus\n",
    "\n",
    "This notebook analyzes titer data for recovered libraries harvested at 48 hpt from all 6 libraries (A-1, B-1, A-2-1, A-2-2, B-2-1, B-2-2) and titers of viral pools of all 48 hpt viral libraries from each plasmid library.\n",
    "\n",
    "## Titers of mCherry barcoded viruses pseudotyped with VSV G\n",
    "\n",
    "This notebook also includes titers of VSV G-pseudotyped libraries with barcoded ForInd_mCherry backbones. "
   ]
  },
  {
   "cell_type": "code",
   "execution_count": null,
   "id": "3c72817e",
   "metadata": {},
   "outputs": [],
   "source": [
    "import os\n",
    "import warnings\n",
    "\n",
    "import pandas as pd\n",
    "import numpy as np\n",
    "\n",
    "from plotnine import *\n",
    "\n",
    "from IPython.display import Image"
   ]
  },
  {
   "cell_type": "code",
   "execution_count": null,
   "id": "cd6cc2a0",
   "metadata": {},
   "outputs": [],
   "source": [
    "warnings.simplefilter('ignore')"
   ]
  },
  {
   "cell_type": "code",
   "execution_count": null,
   "id": "e0e77ab0",
   "metadata": {},
   "outputs": [],
   "source": [
    "royal2 = (\"#9A8822\", \"#F5CDB4\", \"#F8AFA8\", \"#FDDDA0\", \"#74A089\")\n",
    "CBP = ('#999999', '#E69F00', '#56B4E9', '#009E73', '#F0E442', '#0072B2', '#D55E00', '#CC79A7')"
   ]
  },
  {
   "cell_type": "code",
   "execution_count": null,
   "id": "d9e75c68",
   "metadata": {},
   "outputs": [],
   "source": [
    "theme_set(theme_seaborn(style='white', context='talk', font_scale=1))"
   ]
  },
  {
   "cell_type": "markdown",
   "id": "1f3fd970",
   "metadata": {},
   "source": [
    "## Read in csv of titer data"
   ]
  },
  {
   "cell_type": "code",
   "execution_count": null,
   "id": "76029c41",
   "metadata": {},
   "outputs": [],
   "source": [
    "titers_df = pd.read_csv('./titer_csvs/210517_flow_titers.csv')\n",
    "display(titers_df)\n"
   ]
  },
  {
   "cell_type": "markdown",
   "id": "757a80e2",
   "metadata": {},
   "source": [
    "## Plot titers"
   ]
  },
  {
   "cell_type": "code",
   "execution_count": null,
   "id": "078894fc",
   "metadata": {},
   "outputs": [],
   "source": [
    "titers_plot = (ggplot(titers_df,\n",
    "                          aes(x='Virus', y='Titer', fill='Virus')) +\n",
    "                  geom_point(size=5, shape='^', position=position_dodge(width=0.5, preserve='total')) +\n",
    "#                   scale_fill_manual(values=CBP) +\n",
    "                  theme(axis_text_x=element_text(angle=90, vjust=1, hjust=0.5),\n",
    "                       plot_title=element_text(size=30),figure_size=(10, 6)) +\n",
    "                  scale_y_log10(limits=[1e0, 1e7], breaks=[1e0, 1e1, 1e2, 1e3, 1e4, 1e5, 1e6, 1e7]) +\n",
    "#                   facet_wrap('Library', ncol=2) +\n",
    "                  geom_hline(yintercept=10, linetype='dashed', color='grey') + \n",
    "                  geom_vline(xintercept=4.5, linetype='dashed', color='blue') + \n",
    "                  geom_vline(xintercept=8.5, linetype='dashed', color='blue') + \n",
    "                  ylab('transduciton units per mL') +\n",
    "                  xlab('Virus') +\n",
    "                  ggtitle('Pooled Library and barcoded mCherry Titers'))\n",
    "\n",
    "_ = titers_plot.draw()"
   ]
  },
  {
   "cell_type": "markdown",
   "id": "795b01b9",
   "metadata": {},
   "source": [
    "## Plot library titers with previous titers\n"
   ]
  },
  {
   "cell_type": "code",
   "execution_count": null,
   "id": "9f688604",
   "metadata": {},
   "outputs": [],
   "source": [
    "prev_titers = pd.read_csv('./titer_csvs/210402_Libraries_48hpt_titers.csv').drop('Unnamed: 15', axis=1).drop([55, 56], axis=0)\n",
    "prev_titers = prev_titers[(prev_titers['SampleCat'] != 'M3') & (prev_titers['SampleCat'] == 'HPs + dox')]\n",
    "prev_titers['CellLine'] = prev_titers['CellLine'].replace({'A-1': 'A1-48', 'B-1': 'B1-48', 'A-2-1': 'A2-1', 'A-2-2': 'A2-2', 'B-2-1': 'B2-1', 'B-2-2': 'B2-2'})\n",
    "prev_titers = prev_titers.rename(columns={'CellLine': 'Virus', 'WELL ID': 'WELL_ID', 'ZsG+_count': 'ZsG+Count'})\n",
    "prev_titers['TiterMonth'] = ['Apr']*len(prev_titers)\n",
    "prev_titers = prev_titers[['WELL_ID', 'Virus', 'CellCount', 'Titer', 'ZsG+%', 'Cells%', 'SingleCells%', 'ZsG+Count', 'Dilution', 'SampleCat', 'TiterMonth']]\n",
    "display(prev_titers)"
   ]
  },
  {
   "cell_type": "code",
   "execution_count": null,
   "id": "7c6f0460",
   "metadata": {},
   "outputs": [],
   "source": [
    "titers_df_merge = titers_df[['WELL_ID', 'Virus', 'VolVirus', 'CellCount', 'Titer', 'ZsG+%', 'Cells%', 'SingleCells%', 'mCherry+%', 'ZsG+Count']]\n",
    "titers_df_merge['TiterMonth'] = ['May']*len(titers_df_merge)\n",
    "display(titers_df_merge)"
   ]
  },
  {
   "cell_type": "code",
   "execution_count": null,
   "id": "69022535",
   "metadata": {},
   "outputs": [],
   "source": [
    "all_titers = pd.concat([titers_df_merge, prev_titers])\n",
    "display(all_titers)"
   ]
  },
  {
   "cell_type": "code",
   "execution_count": null,
   "id": "a5850456",
   "metadata": {},
   "outputs": [],
   "source": [
    "all_titers_plot = (ggplot(all_titers,\n",
    "                          aes(x='Virus', y='Titer', shape='TiterMonth', fill='Virus')) +\n",
    "                  geom_point(size=5, position=position_dodge(width=0.5, preserve='total')) +\n",
    "#                   scale_fill_manual(values=CBP[1:]) +\n",
    "                  theme(axis_text_x=element_text(angle=90, vjust=1, hjust=0.5),\n",
    "                       plot_title=element_text(size=30),figure_size=(10, 6)) +\n",
    "                  scale_y_log10(limits=[1e0, 1e7], breaks=[1e0, 1e1, 1e2, 1e3, 1e4, 1e5, 1e6, 1e7]) +\n",
    "#                   facet_wrap('Library', ncol=2) +\n",
    "                  geom_hline(yintercept=10, linetype='dashed', color='grey') + \n",
    "#                   geom_hline(yintercept=17000, linetype='dashed', color='green') + \n",
    "                  geom_vline(xintercept=4.5, linetype='dashed', color='blue') + \n",
    "                  geom_vline(xintercept=8.5, linetype='dashed', color='blue') + \n",
    "                  ylab('transduciton units per mL') +\n",
    "                  xlab('Virus') )\n",
    "#                   ggtitle('Pooled Library and barcoded mCherry Titers'))\n",
    "\n",
    "_ = all_titers_plot.draw()"
   ]
  },
  {
   "cell_type": "code",
   "execution_count": null,
   "id": "1429da23",
   "metadata": {},
   "outputs": [],
   "source": []
  }
 ],
 "metadata": {
  "kernelspec": {
   "display_name": "Python 3",
   "language": "python",
   "name": "python3"
  },
  "language_info": {
   "codemirror_mode": {
    "name": "ipython",
    "version": 3
   },
   "file_extension": ".py",
   "mimetype": "text/x-python",
   "name": "python",
   "nbconvert_exporter": "python",
   "pygments_lexer": "ipython3",
   "version": "3.8.5"
  }
 },
 "nbformat": 4,
 "nbformat_minor": 5
}
