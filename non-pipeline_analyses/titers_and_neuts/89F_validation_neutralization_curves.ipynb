{
 "cells": [
  {
   "cell_type": "markdown",
   "id": "7a2faa1b-a0a5-4252-9969-3d0f9f7a285e",
   "metadata": {},
   "source": [
    "# Neutralization curves for 8.9F antibody single mutant validations"
   ]
  },
  {
   "cell_type": "code",
   "execution_count": null,
   "id": "01fb4b9e-9f61-477a-b144-b85f4f62567f",
   "metadata": {},
   "outputs": [],
   "source": [
    "# Imports\n",
    "import os\n",
    "import warnings\n",
    "import neutcurve\n",
    "import pandas as pd\n",
    "import seaborn as sns\n",
    "from matplotlib import pyplot as plt\n",
    "from IPython.display import display\n",
    "\n",
    "# Plotting colors\n",
    "tol_muted_adjusted = [\n",
    "    \"#000000\",\n",
    "    \"#CC6677\", \n",
    "    \"#1f78b4\", \n",
    "    \"#DDCC77\", \n",
    "    \"#117733\", \n",
    "    \"#882255\", \n",
    "    \"#88CCEE\",\n",
    "    \"#44AA99\", \n",
    "    \"#999933\", \n",
    "    \"#AA4499\", \n",
    "    \"#EE7733\",\n",
    "    \"#CC3311\",\n",
    "    \"#DDDDDD\",\n",
    "]\n",
    "\n",
    "# seaborn style settings\n",
    "sns.set(rc={\"figure.dpi\":300, \"savefig.dpi\":300})\n",
    "sns.set_style(\"ticks\")\n",
    "sns.set_palette(tol_muted_adjusted)\n",
    "\n",
    "# Suppress warnings\n",
    "warnings.simplefilter(\"ignore\")"
   ]
  },
  {
   "cell_type": "code",
   "execution_count": null,
   "id": "69e4be08-6c26-4b6a-b3ac-e509cbb294ca",
   "metadata": {},
   "outputs": [],
   "source": [
    "# Read data\n",
    "df = pd.read_excel(\"data/081023_fraction_infected.xlsx\")\n",
    "# Set output directory\n",
    "out_dir = \"figures/\""
   ]
  },
  {
   "cell_type": "code",
   "execution_count": null,
   "id": "441db92f-ab5f-4e6c-ac1f-2cfe956b0de4",
   "metadata": {
    "tags": []
   },
   "outputs": [],
   "source": [
    "# Rename viruses from plasmid number to mutation\n",
    "rename_dict = {\n",
    "    3017 : \"Unmutated\",\n",
    "    3893 : \"N89D\",\n",
    "    3894 : \"N119S\",\n",
    "    3895 : \"K125L\",\n",
    "    3896 : \"K126L\",\n",
    "    3897 : \"Y129L\",\n",
    "    3898 : \"S135L\",\n",
    "    3899 : \"S138N\",\n",
    "    3900 : \"N148R\",\n",
    "    3901 : \"Q149H\",\n",
    "    \n",
    "}\n",
    "df[\"virus\"] = df[\"virus\"].replace(rename_dict)\n",
    "\n",
    "# Drop VSVG\n",
    "df = df.loc[df[\"virus\"] != \"VSVG\"]\n",
    "\n",
    "df.head()"
   ]
  },
  {
   "cell_type": "code",
   "execution_count": null,
   "id": "ffe20e88-fe80-4ba2-8fae-a6c4d62a5ec1",
   "metadata": {
    "tags": []
   },
   "outputs": [],
   "source": [
    "# Fit hill curves using neutcurve\n",
    "fits = neutcurve.curvefits.CurveFits(\n",
    "    data=df,\n",
    "    fixbottom=0,\n",
    "    fixtop=1,\n",
    ")\n",
    "\n",
    "# IC values to calculate\n",
    "fitParams = fits.fitParams(ics=[50, 80, 90, 95, 97, 98, 99])\n",
    "# Show calculated values\n",
    "display(fitParams)"
   ]
  },
  {
   "cell_type": "code",
   "execution_count": null,
   "id": "e1fb1c0a-7da6-4eef-b529-941c9234f4dd",
   "metadata": {
    "tags": []
   },
   "outputs": [],
   "source": [
    "# Show calculated IC values\n",
    "display(fitParams[fitParams[\"serum\"]==\"8.9F\"][[\"serum\",\"virus\",\"ic50\", \"ic80\", \"ic90\", \"ic95\", \"ic97\", \"ic98\", \"ic99\"]])"
   ]
  },
  {
   "cell_type": "code",
   "execution_count": null,
   "id": "a3ac710c-d9b9-4ee7-9635-06f8339a5e09",
   "metadata": {
    "tags": []
   },
   "outputs": [],
   "source": [
    "# Markers\n",
    "markers = [\n",
    "    \"o\",\n",
    "    \"o\",\n",
    "    \"o\",\n",
    "    \"o\",\n",
    "    \"o\",\n",
    "    \"o\",\n",
    "    \"o\",\n",
    "    \"o\",\n",
    "    \"o\",\n",
    "    \"o\",\n",
    "    \"o\",\n",
    "]\n",
    "\n",
    "fig, axes = fits.plotSera(\n",
    "    colors=tol_muted_adjusted,\n",
    "    markers=markers,\n",
    "    max_viruses_per_subplot=11,\n",
    "    xlabel=\"\",\n",
    "    ylabel=\"\",\n",
    "    attempt_shared_legend=False,\n",
    ")\n",
    "axes[0,0].set_title(\n",
    "    \"8.9F\", \n",
    "    weight=\"bold\",\n",
    "    fontsize=8,\n",
    ")\n",
    "axes[0,0].set_xlabel(\n",
    "    \"concentration (\\u03BCg/mL)\", \n",
    "    fontsize=8,\n",
    "    # weight=\"bold\",\n",
    ")\n",
    "axes[0,0].set_ylabel(\n",
    "    \"fraction infectivity\", \n",
    "    fontsize=8,\n",
    "    # weight=\"bold\",\n",
    ")\n",
    "axes[0,0].set_ylim(-0.1, 1.3)\n",
    "axes[0,0].set_yticks([0, 0.5, 1.0])\n",
    "axes[0,0].set_yticklabels(labels=[0, 0.5, 1.0], fontsize=8)\n",
    "axes[0,0].set_xlim(0.0005, 15)\n",
    "axes[0,0].set_xticks([0.001, 0.01, 0.1, 1, 10])\n",
    "axes[0,0].set_xticklabels(labels=[\"$10^{-3}$\", \"$10^{-2}$\", \"$10^{-1}$\", \"$10^0$\", \"$10^1$\"], fontsize=8)\n",
    "plt.setp(axes[0,0].collections, alpha=0.8, linewidths=0.5, colors=\"black\") # for vertical error bar segment\n",
    "plt.setp(axes[0,0].lines, alpha=0.8, markeredgewidth=0.5, markeredgecolor=\"black\", linewidth=1) # for the lines and markers\n",
    "sns.move_legend(\n",
    "    axes[0,0], \n",
    "    bbox_to_anchor=(1.05, 1), \n",
    "    loc=\"upper left\",\n",
    "    borderaxespad=0,\n",
    "    frameon=False,\n",
    "    fontsize=8,\n",
    "    title=\"amino acid\\nsubstitutions\",\n",
    "    title_fontproperties={\"weight\" : \"bold\", \"size\" : 8},\n",
    "    alignment=\"left\"\n",
    ")\n",
    "\n",
    "# Add edges to legend markers to match scatter plot\n",
    "for ha in axes[0,0].legend_.legendHandles:\n",
    "    ha.set_markeredgecolor(\"black\")\n",
    "    ha.set_markeredgewidth(0.5)\n",
    "    ha.set_linewidth(0)\n",
    "    \n",
    "# Change all spines\n",
    "for axis in [\"top\", \"bottom\", \"left\", \"right\"]:\n",
    "    axes[0,0].spines[axis].set_linewidth(1)\n",
    "axes[0,0].tick_params(axis=\"both\", length=4, width=1)\n",
    "\n",
    "width = 3\n",
    "height = 2\n",
    "fig.set_size_inches(width, height)\n",
    "\n",
    "# Make output dir if doesn't exist\n",
    "if not os.path.exists(out_dir):\n",
    "    os.mkdir(out_dir)\n",
    "\n",
    "plt.savefig(\n",
    "    out_dir + \"validation_neut_curves_89F.svg\",\n",
    ")"
   ]
  }
 ],
 "metadata": {
  "kernelspec": {
   "display_name": "Python 3 (ipykernel)",
   "language": "python",
   "name": "python3"
  },
  "language_info": {
   "codemirror_mode": {
    "name": "ipython",
    "version": 3
   },
   "file_extension": ".py",
   "mimetype": "text/x-python",
   "name": "python",
   "nbconvert_exporter": "python",
   "pygments_lexer": "ipython3",
   "version": "3.11.4"
  }
 },
 "nbformat": 4,
 "nbformat_minor": 5
}
