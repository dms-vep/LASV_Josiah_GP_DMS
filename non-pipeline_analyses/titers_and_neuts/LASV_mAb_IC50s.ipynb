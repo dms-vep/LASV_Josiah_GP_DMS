{
 "cells": [
  {
   "cell_type": "markdown",
   "metadata": {},
   "source": [
    "# Neutralization curves for tests with LASV GP antibodies\n",
    "\n",
    "Antibodies tested:\n",
    "- 8.9F\n",
    "- 12.1F\n",
    "- 37.7H\n",
    "- 37.2D\n",
    "- 26.6A\n",
    "- 25.10C\n",
    "\n",
    "Also tested several volumes of WT LASV GP particles."
   ]
  },
  {
   "cell_type": "code",
   "execution_count": null,
   "metadata": {
    "tags": []
   },
   "outputs": [],
   "source": [
    "import warnings\n",
    "import math\n",
    "\n",
    "from IPython.display import display, HTML, SVG\n",
    "\n",
    "import matplotlib.pyplot as plt\n",
    "import pandas as pd\n",
    "import numpy as np\n",
    "import seaborn as sns\n",
    "\n",
    "import neutcurve\n",
    "from neutcurve.colorschemes import CBPALETTE\n",
    "from neutcurve.colorschemes import CBMARKERS\n",
    "\n",
    "import yaml\n",
    "\n",
    "print(f\"Using `neutcurve` version {neutcurve.__version__}\")"
   ]
  },
  {
   "cell_type": "code",
   "execution_count": null,
   "metadata": {
    "tags": []
   },
   "outputs": [],
   "source": [
    "warnings.simplefilter('ignore')\n",
    "# seaborn style settings\n",
    "sns.set(rc={\"figure.dpi\":300, \"savefig.dpi\":300})\n",
    "sns.set_style(\"ticks\")"
   ]
  },
  {
   "cell_type": "markdown",
   "metadata": {},
   "source": [
    "## Read in fraction infectivity data"
   ]
  },
  {
   "cell_type": "code",
   "execution_count": null,
   "metadata": {
    "tags": []
   },
   "outputs": [],
   "source": [
    "df = pd.read_csv('data/210417_fraction_infected.csv')"
   ]
  },
  {
   "cell_type": "code",
   "execution_count": null,
   "metadata": {
    "tags": []
   },
   "outputs": [],
   "source": [
    "fits = neutcurve.curvefits.CurveFits(\n",
    "            data=df,\n",
    "            fixbottom=0,\n",
    "            fixtop=1,\n",
    "            )\n",
    "\n",
    "fitParams = fits.fitParams(ics=[50, 90, 95, 97, 98, 99])"
   ]
  },
  {
   "cell_type": "code",
   "execution_count": null,
   "metadata": {
    "tags": []
   },
   "outputs": [],
   "source": [
    "fig, _ = fits.plotSera(xlabel='antibody concentration (ug/mL)')\n"
   ]
  },
  {
   "cell_type": "code",
   "execution_count": null,
   "metadata": {
    "tags": []
   },
   "outputs": [],
   "source": [
    "for virus in ['LASV_WT-H', 'LASV_WT-M', 'LASV_WT-L', 'LASV_WT']:\n",
    "    curve = fits.getCurve(serum='8.9F', virus=virus, replicate='average')\n",
    "    print(virus)\n",
    "    print(f\"The IC50 for 8.9F is {curve.ic50():.3g}\")\n"
   ]
  },
  {
   "cell_type": "code",
   "execution_count": null,
   "metadata": {
    "tags": []
   },
   "outputs": [],
   "source": [
    "display(fitParams)"
   ]
  },
  {
   "cell_type": "code",
   "execution_count": null,
   "metadata": {
    "tags": []
   },
   "outputs": [],
   "source": [
    "display(fitParams[fitParams['serum']=='8.9F'][['serum','virus','ic50', 'ic90', 'ic95', 'ic97', 'ic98', 'ic99']])"
   ]
  },
  {
   "cell_type": "code",
   "execution_count": null,
   "metadata": {
    "tags": []
   },
   "outputs": [],
   "source": [
    "display(fitParams[fitParams['serum']=='12.1F'][['serum','virus','ic50', 'ic90', 'ic95', 'ic98', 'ic99']])"
   ]
  },
  {
   "cell_type": "code",
   "execution_count": null,
   "metadata": {
    "tags": []
   },
   "outputs": [],
   "source": [
    "display(fitParams[fitParams['serum']=='37.2D'][['serum','virus','ic50', 'ic90', 'ic95', 'ic98', 'ic99']])"
   ]
  },
  {
   "cell_type": "code",
   "execution_count": null,
   "metadata": {
    "tags": []
   },
   "outputs": [],
   "source": [
    "display(fitParams[fitParams['serum']=='37.7H'][['serum','virus','ic50', 'ic90', 'ic95', 'ic98', 'ic99']])"
   ]
  }
 ],
 "metadata": {
  "kernelspec": {
   "display_name": "Python 3 (ipykernel)",
   "language": "python",
   "name": "python3"
  },
  "language_info": {
   "codemirror_mode": {
    "name": "ipython",
    "version": 3
   },
   "file_extension": ".py",
   "mimetype": "text/x-python",
   "name": "python",
   "nbconvert_exporter": "python",
   "pygments_lexer": "ipython3",
   "version": "3.11.4"
  }
 },
 "nbformat": 4,
 "nbformat_minor": 4
}
