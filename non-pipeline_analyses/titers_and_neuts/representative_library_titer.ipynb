{
 "cells": [
  {
   "cell_type": "markdown",
   "id": "99d9ddfd",
   "metadata": {},
   "source": [
    "# Representative library virus titers from 042922 virus batch \n",
    "\n",
    "This was the very first library rescue that is being used as a representative library titer"
   ]
  },
  {
   "cell_type": "code",
   "execution_count": null,
   "id": "d8973e56",
   "metadata": {},
   "outputs": [],
   "source": [
    "# Imports\n",
    "import os\n",
    "import warnings\n",
    "import seaborn as sns\n",
    "import pandas as pd\n",
    "import numpy as np\n",
    "import matplotlib.pyplot as plt\n",
    "\n",
    "# Plotting colors\n",
    "tol_muted_adjusted = [\n",
    "    \"#000000\",\n",
    "    \"#CC6677\", \n",
    "    \"#1f78b4\", \n",
    "    \"#DDCC77\", \n",
    "    \"#117733\", \n",
    "    \"#882255\", \n",
    "    \"#88CCEE\",\n",
    "    \"#44AA99\", \n",
    "    \"#999933\", \n",
    "    \"#AA4499\", \n",
    "    \"#EE7733\",\n",
    "    \"#CC3311\",\n",
    "    \"#DDDDDD\",\n",
    "]\n",
    "\n",
    "# Seaborn style settings\n",
    "sns.set(rc={\"figure.dpi\":300, \"savefig.dpi\":300})\n",
    "sns.set_style(\"ticks\")\n",
    "sns.set_palette(tol_muted_adjusted)\n",
    "\n",
    "# Suppress warnings\n",
    "warnings.simplefilter(\"ignore\")"
   ]
  },
  {
   "cell_type": "code",
   "execution_count": null,
   "id": "f0bf2f3b",
   "metadata": {},
   "outputs": [],
   "source": [
    "# Read data\n",
    "data_frame = pd.read_excel(\"data/042922_titer_calculations.xlsx\")\n",
    "# Set output directory\n",
    "out_dir = \"figures/\""
   ]
  },
  {
   "cell_type": "code",
   "execution_count": null,
   "id": "a0bcc368",
   "metadata": {},
   "outputs": [],
   "source": [
    "# Re-group data\n",
    "data_frame = data_frame[[\"Infection_sample\", \"Titers_(TU/mL)\"]]\n",
    "data_frame[\"Library\"] = data_frame[\"Infection_sample\"].str.contains(\"_A_\")\n",
    "data_frame[\"Library\"] = data_frame[\"Library\"].map({True: \"Library A\", False: \"Library B\"})\n",
    "data_frame[\"Infection_sample\"] = data_frame[\"Infection_sample\"].str.replace(\"Library_A_\", \"\")\n",
    "data_frame[\"Infection_sample\"] = data_frame[\"Infection_sample\"].str.replace(\"Library_B_\", \"\")\n",
    "data_frame[\"Infection_sample\"] = data_frame[\"Infection_sample\"].str.replace(\"_1\", \"\")\n",
    "data_frame[\"Infection_sample\"] = data_frame[\"Infection_sample\"].str.replace(\"_2\", \"\")\n",
    "\n",
    "# Average library titers\n",
    "data_frame = (\n",
    "    data_frame\n",
    "    .groupby([\"Infection_sample\"])\n",
    "    .aggregate({\"Titers_(TU/mL)\" : \"mean\"})\n",
    "    .reset_index()\n",
    ")\n",
    "\n",
    "# Re-index to have increasing values\n",
    "data_frame = (\n",
    "    data_frame\n",
    "    .reindex([3,2,1,0])\n",
    "    .reset_index(drop=True)\n",
    ")\n",
    "data_frame"
   ]
  },
  {
   "cell_type": "code",
   "execution_count": null,
   "id": "9a3a88c5",
   "metadata": {},
   "outputs": [],
   "source": [
    "# Plot data\n",
    "plt.figure(figsize=(2,2))\n",
    "chart = sns.scatterplot(\n",
    "    data=data_frame, \n",
    "    x=\"Infection_sample\", \n",
    "    y=\"Titers_(TU/mL)\", \n",
    "    alpha=0.8,\n",
    "    edgecolor=\"black\",\n",
    "    linewidth=0.5,\n",
    ")\n",
    "chart.set_yscale(\"log\")\n",
    "chart.set_ylim(0, 50000000) # put at 0 to allow for lowest point to not be cut off\n",
    "yticks = [10, 1000, 100000, 10000000]\n",
    "chart.set_yticks(yticks)\n",
    "chart.set_yticklabels(labels=[\"$10^1$\", \"$10^3$\", \"$10^5$\", \"$10^7$\"], fontsize=8)\n",
    "xticks = [0, 1, 2, 3]\n",
    "chart.set_xticks(xticks)\n",
    "# Re-do x-axis in illustator\n",
    "x_labels = [\"No_Plasmids\", \"HPs_unconcentrated\", \"HPs_concentrated\",  \"HPs+VSVG\"]\n",
    "chart.set_xticklabels(labels=x_labels, rotation=90, horizontalalignment=\"right\", fontsize=8)\n",
    "chart.set_ylabel(\"TU/mL\", fontsize=8)\n",
    "chart.set(xlabel=None)\n",
    "\n",
    "# Change all spines\n",
    "for axis in [\"top\", \"bottom\", \"left\", \"right\"]:\n",
    "    chart.spines[axis].set_linewidth(1)\n",
    "chart.tick_params(axis=\"both\", length=4, width=1)\n",
    "\n",
    "sns.despine()\n",
    "\n",
    "# Make output dir if doesn't exist\n",
    "if not os.path.exists(out_dir):\n",
    "    os.mkdir(out_dir)\n",
    "\n",
    "# Save fig\n",
    "plt.savefig(out_dir + \"representative_library_titers.svg\")"
   ]
  }
 ],
 "metadata": {
  "kernelspec": {
   "display_name": "Python 3 (ipykernel)",
   "language": "python",
   "name": "python3"
  },
  "language_info": {
   "codemirror_mode": {
    "name": "ipython",
    "version": 3
   },
   "file_extension": ".py",
   "mimetype": "text/x-python",
   "name": "python",
   "nbconvert_exporter": "python",
   "pygments_lexer": "ipython3",
   "version": "3.11.4"
  }
 },
 "nbformat": 4,
 "nbformat_minor": 5
}
