{
 "cells": [
  {
   "cell_type": "markdown",
   "id": "8e692ab2",
   "metadata": {},
   "source": [
    "# Stable cell lines expressing DAG1 orthologs viral titers"
   ]
  },
  {
   "cell_type": "code",
   "execution_count": null,
   "id": "783c95e9",
   "metadata": {
    "tags": []
   },
   "outputs": [],
   "source": [
    "# Imports\n",
    "import os\n",
    "import warnings\n",
    "import seaborn as sns\n",
    "import pandas as pd\n",
    "import numpy as np\n",
    "from matplotlib import pyplot as plt, ticker as mticker\n",
    "\n",
    "from scipy.interpolate import splrep, splev\n",
    "\n",
    "# Plotting colors\n",
    "tol_muted_adjusted = [\n",
    "    \"#000000\",\n",
    "    \"#CC6677\", \n",
    "    \"#1f78b4\", \n",
    "    \"#DDCC77\", \n",
    "    \"#117733\", \n",
    "    \"#882255\", \n",
    "    \"#88CCEE\",\n",
    "    \"#44AA99\", \n",
    "    \"#999933\", \n",
    "    \"#AA4499\", \n",
    "    \"#EE7733\",\n",
    "    \"#CC3311\",\n",
    "    \"#DDDDDD\",\n",
    "]\n",
    "\n",
    "# Seaborn style settings\n",
    "sns.set(rc={\"figure.dpi\":300, \"savefig.dpi\":300})\n",
    "sns.set_style(\"ticks\")\n",
    "sns.set_palette(tol_muted_adjusted)\n",
    "\n",
    "# Suppress warnings\n",
    "warnings.simplefilter(\"ignore\")"
   ]
  },
  {
   "cell_type": "code",
   "execution_count": null,
   "id": "c1e7c889",
   "metadata": {
    "tags": []
   },
   "outputs": [],
   "source": [
    "# Read data\n",
    "titer_data = pd.read_excel(\"data/042123_titer_calculations.xlsx\")\n",
    "# Set output directory\n",
    "out_dir = \"figures/\""
   ]
  },
  {
   "cell_type": "code",
   "execution_count": null,
   "id": "aa263e1c",
   "metadata": {
    "tags": []
   },
   "outputs": [],
   "source": [
    "# Re-group dataframe\n",
    "titer_data = titer_data[[\"Infection_sample\", \"Titers_(TU/mL)\"]]\n",
    "titer_data[\"VEP\"] = titer_data[\"Infection_sample\"].str.contains(\"_LASV_\")\n",
    "titer_data[\"VEP\"] = titer_data[\"VEP\"].map({True: \"GPC\", False: \"VSV-G\"})\n",
    "titer_data[\"Infection_sample\"] = titer_data[\"Infection_sample\"].str.replace(\"_LASV_\", \"\")\n",
    "titer_data[\"Infection_sample\"] = titer_data[\"Infection_sample\"].str.replace(\"_VSVG_\", \"\")\n",
    "titer_data[\"Infection_sample\"] = titer_data[\"Infection_sample\"].str.replace(\"rep1\", \"\")\n",
    "titer_data[\"Infection_sample\"] = titer_data[\"Infection_sample\"].str.replace(\"rep2\", \"\")\n",
    "titer_data[\"Infection_sample\"] = titer_data[\"Infection_sample\"].str.replace(\"rep3\", \"\")\n",
    "\n",
    "titer_data"
   ]
  },
  {
   "cell_type": "code",
   "execution_count": null,
   "id": "4a3499ee",
   "metadata": {
    "tags": []
   },
   "outputs": [],
   "source": [
    "# Plot data\n",
    "plt.figure(figsize=(2,2))\n",
    "chart = sns.swarmplot(\n",
    "    data=titer_data, \n",
    "    x=\"Infection_sample\", \n",
    "    y=\"Titers_(TU/mL)\", \n",
    "    hue=\"VEP\", \n",
    "    alpha=0.8,\n",
    "    edgecolor=\"black\",\n",
    "    linewidth=0.5,\n",
    "    palette={\"GPC\" : \"#DDDDDD\", \"VSV-G\" : \"#000000\"},\n",
    ")\n",
    "chart.set_yscale(\"log\")\n",
    "chart.yaxis.set_minor_locator(mticker.NullLocator())  # no minor ticks\n",
    "chart.set_ylim(1, 50000000)\n",
    "yticks = [10, 1000, 100000, 10000000]\n",
    "chart.set_yticks(yticks)\n",
    "chart.set_yticklabels(labels=[\"$10^1$\", \"$10^3$\", \"$10^5$\", \"$10^7$\"], fontsize=8)\n",
    "xticks = [0, 1, 2, 3]\n",
    "chart.set_xticks(xticks)\n",
    "x_labels = [\n",
    "    \"293T\", \n",
    "    \"293T\\u0394DAG1\", \n",
    "    \"293T\\u0394DAG1+mastomysDAG1\", \n",
    "    \"293T\\u0394DAG1+humanDAG1\",\n",
    "]\n",
    "chart.set_xticklabels(labels=x_labels, rotation=90, horizontalalignment=\"center\", fontsize=8)\n",
    "chart.set_ylabel(\"TU/mL\", fontsize=8)\n",
    "chart.set(xlabel=None)\n",
    "sns.move_legend(\n",
    "    chart, \n",
    "    \"upper left\", \n",
    "    bbox_to_anchor=(1, 1),\n",
    "    fontsize=8,\n",
    "    markerscale=1,\n",
    "    handletextpad=0.1,\n",
    "    title=\"viral entry\\nprotein\",\n",
    "    title_fontproperties = {\n",
    "        \"size\" : 8, \n",
    "        \"weight\" : \"bold\",\n",
    "    },\n",
    "    frameon=False,\n",
    "    borderaxespad=0.1,\n",
    ")\n",
    "\n",
    "# Change all spines\n",
    "for axis in [\"top\", \"bottom\", \"left\", \"right\"]:\n",
    "    chart.spines[axis].set_linewidth(1)\n",
    "chart.tick_params(axis=\"both\", length=4, width=1)\n",
    "\n",
    "chart.grid(False)\n",
    "sns.despine()\n",
    "\n",
    "# Add edges to legend markers to match scatter plot\n",
    "for ha in chart.legend_.legendHandles:\n",
    "    ha.set_edgecolor(\"black\")\n",
    "    ha.set_linewidths(0.5)\n",
    "\n",
    "# Make output dir if doesn't exist\n",
    "if not os.path.exists(out_dir):\n",
    "    os.mkdir(out_dir)\n",
    "\n",
    "# Save fig\n",
    "plt.savefig(out_dir + \"stable_cell_line_titers.svg\")"
   ]
  }
 ],
 "metadata": {
  "kernelspec": {
   "display_name": "Python 3 (ipykernel)",
   "language": "python",
   "name": "python3"
  },
  "language_info": {
   "codemirror_mode": {
    "name": "ipython",
    "version": 3
   },
   "file_extension": ".py",
   "mimetype": "text/x-python",
   "name": "python",
   "nbconvert_exporter": "python",
   "pygments_lexer": "ipython3",
   "version": "3.11.4"
  }
 },
 "nbformat": 4,
 "nbformat_minor": 5
}
