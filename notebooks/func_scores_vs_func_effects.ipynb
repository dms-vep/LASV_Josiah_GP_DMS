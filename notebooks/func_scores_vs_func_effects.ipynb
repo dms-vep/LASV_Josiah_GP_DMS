{
 "cells": [
  {
   "cell_type": "markdown",
   "id": "3ee1b317-ae8b-4e29-8a85-afb722f1c1d6",
   "metadata": {
    "editable": true,
    "slideshow": {
     "slide_type": ""
    },
    "tags": []
   },
   "source": [
    "# Correlation between single mutant variant scores and global epistasis functional effects\n",
    "\n",
    "This notebook analyzes the correlation between the raw functional scores for barcoded variants with single amino-acid mutations and the functional effects for the amino-acid mutations as determined by a global epistasis model. "
   ]
  },
  {
   "cell_type": "code",
   "execution_count": null,
   "id": "5b690a59-1a9d-42d1-b80e-39bb295e0b84",
   "metadata": {
    "editable": true,
    "slideshow": {
     "slide_type": ""
    },
    "tags": []
   },
   "outputs": [],
   "source": [
    "# Imports\n",
    "import os\n",
    "import math\n",
    "import numpy\n",
    "import yaml\n",
    "import matplotlib.colors\n",
    "import scipy as sp\n",
    "import altair as alt\n",
    "import pandas as pd\n",
    "import plotnine as p9\n",
    "import dms_variants.codonvarianttable\n",
    "\n",
    "# Create color palette\n",
    "def color_gradient_hex(start, end, n):\n",
    "    \"\"\"Color function from polyclonal\"\"\"\n",
    "    cmap = matplotlib.colors.LinearSegmentedColormap.from_list(\n",
    "            name=\"_\", colors=[start, end], N=n\n",
    "        )\n",
    "    return [matplotlib.colors.rgb2hex(tup) for tup in cmap(list(range(0, n)))]\n",
    "\n",
    "# Orange to white to blue color gradient\n",
    "orangeblue = color_gradient_hex(\"#E69F00\", \"white\", n=20) + color_gradient_hex(\"white\", \"#0072B2\", n=20)\n",
    "\n",
    "# Allow more rows for Altair\n",
    "_ = alt.data_transformers.disable_max_rows()"
   ]
  },
  {
   "cell_type": "code",
   "execution_count": null,
   "id": "32fb6057-8eb0-4cc7-ae75-fb3b04f180b6",
   "metadata": {
    "editable": true,
    "slideshow": {
     "slide_type": ""
    },
    "tags": [
     "parameters"
    ]
   },
   "outputs": [],
   "source": [
    "# this cell is tagged as `parameters` for papermill parameterization\n",
    "libA_1  = None\n",
    "libA_2  = None\n",
    "libA_3  = None\n",
    "libA_4  = None\n",
    "\n",
    "libB_1  = None\n",
    "libB_2  = None\n",
    "libB_3  = None\n",
    "libB_4  = None\n",
    "\n",
    "scores_dir = None\n",
    "effects_dir = None"
   ]
  },
  {
   "cell_type": "code",
   "execution_count": null,
   "id": "f39a19ea-6e58-4f42-9466-adb825b3fda2",
   "metadata": {
    "editable": true,
    "slideshow": {
     "slide_type": ""
    },
    "tags": []
   },
   "outputs": [],
   "source": [
    "# # Uncomment for running interactive\n",
    "# libA_1 = \"LibA-220823-293T-1\"\n",
    "# libA_2 = \"LibA-220823-293T-2\"\n",
    "# libA_3 = \"LibA-220907-293T-1\"\n",
    "# libA_4 = \"LibA-220907-293T-2\"\n",
    "\n",
    "# libB_1 = \"LibB-220823-293T-1\"\n",
    "# libB_2 = \"LibB-220823-293T-2\"\n",
    "# libB_3 = \"LibB-220907-293T-1\"\n",
    "# libB_4 = \"LibB-220907-293T-2\"\n",
    "\n",
    "# scores_dir = \"../results/func_scores/\"\n",
    "# effects_dir = \"../results/func_effects/by_selection/\""
   ]
  },
  {
   "cell_type": "markdown",
   "id": "64121cdb-83ac-4ba2-979a-58c3c812f9cc",
   "metadata": {
    "editable": true,
    "slideshow": {
     "slide_type": ""
    },
    "tags": []
   },
   "source": [
    "Read and process data for both functional scores and functional effects. The functional scores are clipped at the lower (median of stop codons) and upper (2) ends. "
   ]
  },
  {
   "cell_type": "code",
   "execution_count": null,
   "id": "bd84dd67-ff48-4669-90ac-8f2a6ab9c919",
   "metadata": {
    "editable": true,
    "slideshow": {
     "slide_type": ""
    },
    "tags": []
   },
   "outputs": [],
   "source": [
    "# Selection names\n",
    "selections = [\n",
    "    libA_1,\n",
    "    libA_2,\n",
    "    libA_3,\n",
    "    libA_4,\n",
    "    libB_1,\n",
    "    libB_2,\n",
    "    libB_3,\n",
    "    libB_4,\n",
    "]\n",
    "\n",
    "# Read and concat all func score files\n",
    "func_scores = pd.concat(\n",
    "    [\n",
    "        pd.read_csv(scores_dir + s + \"_func_scores.csv\").assign(selection=s) \n",
    "        for s in selections\n",
    "    ],\n",
    "    ignore_index=True,\n",
    ")\n",
    "\n",
    "# Extract single mutants and make unique wildtype, site, and mutant columns\n",
    "func_scores = (\n",
    "    func_scores.query(\"n_aa_substitutions == 1\")\n",
    "    .reset_index(drop=True)\n",
    ")\n",
    "func_scores[\"wildtype\"] = func_scores[\"aa_substitutions\"].str[0]\n",
    "func_scores[\"site\"] = func_scores[\"aa_substitutions\"].str[1:-1].astype(\"Int64\")\n",
    "func_scores[\"mutant\"] = func_scores[\"aa_substitutions\"].str[-1]\n",
    "\n",
    "# Clip func score values \n",
    "lower_floor = func_scores.loc[(func_scores[\"wildtype\"] != \"*\") & (func_scores[\"mutant\"] == \"*\")][\"func_score\"].median()\n",
    "print(f\"functional scores are clipped on the lower end at {lower_floor} (median of stop codons) and on the upper end at 2\")\n",
    "func_scores[\"func_score\"] = func_scores[\"func_score\"].clip(lower=lower_floor, upper=2)\n",
    "\n",
    "# Average func scores\n",
    "func_scores = (\n",
    "    func_scores.groupby([\"wildtype\", \"site\", \"mutant\"])\n",
    "    .aggregate({\n",
    "        \"func_score\" : \"median\",\n",
    "    })\n",
    "    .reset_index()\n",
    ")\n",
    "\n",
    "# Read and concat all func effect files\n",
    "func_effects = pd.concat(\n",
    "    [\n",
    "        pd.read_csv(effects_dir + s + \"_func_effects.csv\").assign(selection=s) \n",
    "        for s in selections\n",
    "    ],\n",
    "    ignore_index=True,\n",
    ").assign(times_seen=lambda x: x[\"times_seen\"].astype(\"Int64\"))\n",
    "\n",
    "# Average functional effects\n",
    "func_effects = (\n",
    "    func_effects.groupby([\"wildtype\", \"site\", \"mutant\"])\n",
    "    .aggregate({\n",
    "        \"times_seen\" : \"mean\",\n",
    "        \"functional_effect\" : \"median\",\n",
    "    })\n",
    "    .reset_index()\n",
    ")\n",
    "\n",
    "# Merge functional scores and functional effects\n",
    "merged_df = (\n",
    "    func_scores.merge(\n",
    "        func_effects,\n",
    "        how=\"inner\",\n",
    "        on=[\"site\", \"wildtype\", \"mutant\"],\n",
    "        validate=\"one_to_one\",\n",
    "    )\n",
    ")"
   ]
  },
  {
   "cell_type": "markdown",
   "id": "60667b1a-7d32-4d81-87ee-c534ed15f9a4",
   "metadata": {
    "editable": true,
    "slideshow": {
     "slide_type": ""
    },
    "tags": []
   },
   "source": [
    "Plot correlation between functional scores and functional effects."
   ]
  },
  {
   "cell_type": "code",
   "execution_count": null,
   "id": "633cced1-ecb9-498c-b464-16e2b64348a4",
   "metadata": {
    "editable": true,
    "slideshow": {
     "slide_type": ""
    },
    "tags": []
   },
   "outputs": [],
   "source": [
    "# Calculate statistics\n",
    "r, p = sp.stats.pearsonr(\n",
    "    merged_df[\"func_score\"], \n",
    "    merged_df[\"functional_effect\"]\n",
    ")\n",
    "print(f\"r correlation functional scores vs functional effects: {r:.2f}\")\n",
    "print(f\"r^2 correlation functional scores vs functional effects: {r**2:.2f}\")\n",
    "\n",
    "# Plot data\n",
    "corr_chart = alt.Chart(merged_df).mark_point(filled=True, color=\"black\", opacity=0.15).encode(\n",
    "    alt.X(\n",
    "        \"func_score\",\n",
    "        axis=alt.Axis(\n",
    "            title=[\"variant scores for barcoded\", \"variants with single amino-acid mutations\"], \n",
    "            values=[-4, -3, -2, -1, 0, 1, 2],\n",
    "            domainWidth=1,\n",
    "            domainColor=\"black\",\n",
    "            tickColor=\"black\",\n",
    "        ),\n",
    "        scale=alt.Scale(domain=[-4.9,2.25])\n",
    "    ),\n",
    "    alt.Y(\n",
    "        \"functional_effect\",\n",
    "        axis=alt.Axis(\n",
    "            title=[\"functional effects for mutations\", \"determiend by global epistasis model\"], \n",
    "            values=[-4, -3, -2, -1, 0, 1],\n",
    "            domainWidth=1,\n",
    "            domainColor=\"black\",\n",
    "            tickColor=\"black\",\n",
    "        ),\n",
    "        scale=alt.Scale(domain=[-4.5,1.5])\n",
    "    ),\n",
    "    tooltip=[\n",
    "        \"site\",\n",
    "        \"wildtype\",\n",
    "        \"mutant\",\n",
    "        \"func_score\",\n",
    "        \"functional_effect\",\n",
    "        \"times_seen\",\n",
    "    ],\n",
    ").properties(\n",
    "    width=300,\n",
    "    height=300\n",
    ").configure_axis(\n",
    "    grid=False,\n",
    "    labelFontSize=16,\n",
    "    titleFontSize=16,\n",
    "    labelFontWeight=\"normal\",\n",
    "    titleFontWeight=\"normal\",\n",
    ").configure_title(\n",
    "    fontSize=24,\n",
    ").configure_view(\n",
    "    stroke=None\n",
    ")\n",
    "\n",
    "corr_chart"
   ]
  }
 ],
 "metadata": {
  "kernelspec": {
   "display_name": "Python 3 (ipykernel)",
   "language": "python",
   "name": "python3"
  },
  "language_info": {
   "codemirror_mode": {
    "name": "ipython",
    "version": 3
   },
   "file_extension": ".py",
   "mimetype": "text/x-python",
   "name": "python",
   "nbconvert_exporter": "python",
   "pygments_lexer": "ipython3",
   "version": "3.11.7"
  }
 },
 "nbformat": 4,
 "nbformat_minor": 5
}
