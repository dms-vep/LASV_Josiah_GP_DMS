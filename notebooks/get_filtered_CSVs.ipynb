{
 "cells": [
  {
   "cell_type": "markdown",
   "id": "2de1acf3-2640-4e0c-b48e-1331dd637a2d",
   "metadata": {},
   "source": [
    "# Create filtered antibody escape CSVs based on configuration for plotting\n",
    "\n",
    "This notebook filters the antibody escape data based on filters applied when plotting the data and outputs filtered escape CSV."
   ]
  },
  {
   "cell_type": "code",
   "execution_count": null,
   "id": "c72525ea-5c71-4cab-a5dc-0c8bb0f86eca",
   "metadata": {},
   "outputs": [],
   "source": [
    "# Imports \n",
    "import os\n",
    "import pandas as pd\n",
    "import seaborn as sns"
   ]
  },
  {
   "cell_type": "markdown",
   "id": "e170935a-82b0-4d11-a167-c89578a5ee24",
   "metadata": {},
   "source": [
    "File paths for data:"
   ]
  },
  {
   "cell_type": "code",
   "execution_count": null,
   "id": "4ef8e849-837a-4e1a-afd6-98dfe1c39751",
   "metadata": {
    "editable": true,
    "slideshow": {
     "slide_type": ""
    },
    "tags": [
     "parameters"
    ]
   },
   "outputs": [],
   "source": [
    "# this cell is tagged as `parameters` for papermill parameterization\n",
    "func_scores = None\n",
    "\n",
    "escape_377H = None\n",
    "escape_89F = None\n",
    "escape_2510C = None\n",
    "escape_121F = None\n",
    "escape_256A = None\n",
    "escape_372D = None\n",
    "\n",
    "min_times_seen = None\n",
    "min_func_score = None\n",
    "n_selections = None\n",
    "frac_models = None\n",
    "\n",
    "out_dir = None\n",
    "\n",
    "filtered_escape_377H = None\n",
    "filtered_escape_89F = None\n",
    "filtered_escape_2510C = None\n",
    "filtered_escape_121F = None\n",
    "filtered_escape_256A = None\n",
    "filtered_escape_372D = None"
   ]
  },
  {
   "cell_type": "code",
   "execution_count": null,
   "id": "569ba300-5c2b-4eda-8e28-b12655e6da0f",
   "metadata": {},
   "outputs": [],
   "source": [
    "# # Uncomment for running interactive\n",
    "# func_scores = \"../results/func_effects/averages/293T_entry_func_effects.csv\"\n",
    "\n",
    "# escape_377H = \"../results/antibody_escape/averages/377H_mut_effect.csv\"\n",
    "# escape_89F = \"../results/antibody_escape/averages/89F_mut_effect.csv\"\n",
    "# escape_2510C = \"../results/antibody_escape/averages/2510C_mut_effect.csv\"\n",
    "# escape_121F = \"../results/antibody_escape/averages/121F_mut_effect.csv\"\n",
    "# escape_256A = \"../results/antibody_escape/averages/256A_mut_effect.csv\"\n",
    "# escape_372D = \"../results/antibody_escape/averages/372D_mut_effect.csv\"\n",
    "\n",
    "# min_times_seen = 2\n",
    "# min_func_score = -1.5\n",
    "# n_selections = 8\n",
    "# frac_models = 1\n",
    "\n",
    "# out_dir = \"../results/filtered_antibody_escape_CSVs/\"\n",
    "\n",
    "# filtered_escape_377H = \"../results/filtered_antibody_escape_CSVs/377H_filtered_mut_effect.csv\"\n",
    "# filtered_escape_89F = \"../results/filtered_antibody_escape_CSVs/89F_filtered_mut_effect.csv\"\n",
    "# filtered_escape_2510C = \"../results/filtered_antibody_escape_CSVs/2510C_filtered_mut_effect.csv\"\n",
    "# filtered_escape_121F = \"../results/filtered_antibody_escape_CSVs/121F_filtered_mut_effect.csv\"\n",
    "# filtered_escape_256A = \"../results/filtered_antibody_escape_CSVs/256A_filtered_mut_effect.csv\"\n",
    "# filtered_escape_372D = \"../results/filtered_antibody_escape_CSVs/372D_filtered_mut_effect.csv\""
   ]
  },
  {
   "cell_type": "code",
   "execution_count": null,
   "id": "406d83c1-8398-47b1-8c76-403cb2cbadba",
   "metadata": {},
   "outputs": [],
   "source": [
    "def get_filtered_csv(escape_file, output_file, func_scores, min_times_seen, min_func_score, n_selections, frac_models):\n",
    "    \"\"\"Function that filters and writes an antibody escape csv\"\"\"\n",
    "\n",
    "    # Read data\n",
    "    escape_df = pd.read_csv(escape_file)\n",
    "    func_scores = pd.read_csv(func_scores)\n",
    "\n",
    "    # Filter functional scores\n",
    "    func_scores = (\n",
    "        func_scores.loc[\n",
    "            (func_scores[\"times_seen\"] >= min_times_seen)\n",
    "            &\n",
    "            (func_scores[\"n_selections\"] >= n_selections)\n",
    "        ]\n",
    "    )\n",
    "    # Create mutation column to match antibody df\n",
    "    func_scores[\"site\"] = func_scores[\"site\"].astype(str)\n",
    "    func_scores[\"mutation\"] = func_scores[\"wildtype\"] + func_scores[\"site\"] + func_scores[\"mutant\"]\n",
    "    func_scores_filter = func_scores.loc[func_scores[\"effect\"] >= min_func_score][\"mutation\"].tolist()\n",
    "\n",
    "    # Filter escape df\n",
    "    escape_df = (\n",
    "        escape_df.loc[\n",
    "            (escape_df[\"mutation\"].isin(func_scores_filter))\n",
    "            &\n",
    "            (escape_df[\"times_seen\"] >= min_times_seen)\n",
    "            &\n",
    "            (escape_df[\"frac_models\"] >= frac_models)\n",
    "        ]\n",
    "        .reset_index(drop=True)\n",
    "    )\n",
    "\n",
    "    escape_df.to_csv(output_file, index=False)"
   ]
  },
  {
   "cell_type": "code",
   "execution_count": null,
   "id": "1f5d2abc-352e-4c8c-9714-374a913c1d80",
   "metadata": {},
   "outputs": [],
   "source": [
    "antibody_input_files = [\n",
    "    escape_377H,\n",
    "    escape_89F,\n",
    "    escape_2510C,\n",
    "    escape_121F,\n",
    "    escape_256A,\n",
    "    escape_372D,\n",
    "]\n",
    "\n",
    "antibody_output_files = [\n",
    "    filtered_escape_377H,\n",
    "    filtered_escape_89F,\n",
    "    filtered_escape_2510C,\n",
    "    filtered_escape_121F,\n",
    "    filtered_escape_256A,\n",
    "    filtered_escape_372D,\n",
    "]\n",
    "\n",
    "# Make output dir if doesn't exist\n",
    "if not os.path.exists(out_dir):\n",
    "    os.mkdir(out_dir)\n",
    "\n",
    "# Iterate through list of antibody files\n",
    "for i in range(len(antibody_input_files)):\n",
    "    get_filtered_csv(antibody_input_files[i], antibody_output_files[i], func_scores, min_times_seen, min_func_score, n_selections, frac_models)"
   ]
  }
 ],
 "metadata": {
  "kernelspec": {
   "display_name": "Python 3 (ipykernel)",
   "language": "python",
   "name": "python3"
  },
  "language_info": {
   "codemirror_mode": {
    "name": "ipython",
    "version": 3
   },
   "file_extension": ".py",
   "mimetype": "text/x-python",
   "name": "python",
   "nbconvert_exporter": "python",
   "pygments_lexer": "ipython3",
   "version": "3.11.4"
  }
 },
 "nbformat": 4,
 "nbformat_minor": 5
}
