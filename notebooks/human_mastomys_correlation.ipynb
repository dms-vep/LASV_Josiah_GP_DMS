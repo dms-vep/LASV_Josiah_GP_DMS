{
 "cells": [
  {
   "cell_type": "markdown",
   "id": "01764c06-e867-41d7-a5d9-6b28e5f23f6d",
   "metadata": {},
   "source": [
    "# Correlation between functional selections on humanDAG1 and mastomysDAG1 cells\n",
    "\n",
    "Compare functional scores measured on cells expressing humanDAG1 and mastomysDAG1"
   ]
  },
  {
   "cell_type": "code",
   "execution_count": null,
   "id": "02beb58e-4ba5-443e-9d63-f0437faf94ae",
   "metadata": {},
   "outputs": [],
   "source": [
    "# Imports\n",
    "import pandas as pd\n",
    "import seaborn as sns\n",
    "import numpy as np\n",
    "import scipy as sp\n",
    "from IPython.display import display, HTML\n",
    "import matplotlib.pyplot as plt\n",
    "import altair as alt\n",
    "\n",
    "\n",
    "# Seaborn style settings\n",
    "sns.set(rc={\"figure.dpi\" : 300})\n",
    "sns.set_style(\"ticks\")\n",
    "\n",
    "# Allow more rows for Altair\n",
    "_ = alt.data_transformers.disable_max_rows()"
   ]
  },
  {
   "cell_type": "markdown",
   "id": "080a6ef8-17bb-41bd-a220-162f33c327f9",
   "metadata": {},
   "source": [
    "File paths for data:"
   ]
  },
  {
   "cell_type": "code",
   "execution_count": null,
   "id": "a891721c-e958-484c-8801-2bf33b8b2084",
   "metadata": {},
   "outputs": [],
   "source": [
    "humanDAG1_data_path = \"results/func_effects/averages/human_293T_entry_func_effects.csv\"\n",
    "mastomysDAG1_data_path = \"results/func_effects/averages/mastomys_293T_entry_func_effects.csv\""
   ]
  },
  {
   "cell_type": "code",
   "execution_count": null,
   "id": "e480263f-2b48-47e6-b390-901eeb77cf10",
   "metadata": {},
   "outputs": [],
   "source": [
    "# Read data\n",
    "human_df = pd.read_csv(humanDAG1_data_path)\n",
    "mastomys_df = pd.read_csv(mastomysDAG1_data_path)\n",
    "\n",
    "# Merge data on intersection of measured values\n",
    "merged_df = (\n",
    "    human_df.merge(\n",
    "        mastomys_df,\n",
    "        how=\"inner\",\n",
    "        on=[\"site\", \"wildtype\", \"mutant\"],\n",
    "        suffixes=[\"_human\", \"_mastomys\"],\n",
    "        validate=\"one_to_one\",\n",
    "    )\n",
    ")\n",
    "\n",
    "# Add average times seen column\n",
    "merged_df[\"average_times_seen\"] = merged_df[[\"times_seen_human\", \"times_seen_mastomys\"]].mean(axis=1)\n",
    "\n",
    "merged_df.head()"
   ]
  },
  {
   "cell_type": "markdown",
   "id": "0cf910b8-551b-4432-a371-4605265046dc",
   "metadata": {},
   "source": [
    "Plot correlation of scores with an interactive plot"
   ]
  },
  {
   "cell_type": "code",
   "execution_count": null,
   "id": "6ba62175-2ef3-41fa-a168-4c25e4f8b449",
   "metadata": {},
   "outputs": [],
   "source": [
    "r, p = sp.stats.pearsonr(merged_df[\"effect_human\"], merged_df[\"effect_mastomys\"])\n",
    "print(f\"r correlation with no filters applied: {r:.2f}\")\n",
    "print(f\"r^2 correlation with no filters applied: {r**2:.2f}\")\n",
    "\n",
    "slider = alt.binding_range(min=1, max=25, step=1, name=\"times_seen\")\n",
    "selector = alt.param(name=\"SelectorName\", value=1, bind=slider)\n",
    "\n",
    "alt.Chart(merged_df).mark_point(filled=True, color=\"black\").encode(\n",
    "    alt.X(\n",
    "        \"effect_human\",\n",
    "        axis=alt.Axis(\n",
    "            title=\"functional score measured in humanDAG1 expressing cells\", \n",
    "            titleFontSize=12,\n",
    "            values=[-6, -4, -2, 0, 2],\n",
    "            domainWidth=1,\n",
    "            domainColor=\"black\",\n",
    "            tickColor=\"black\",\n",
    "        ),\n",
    "        scale=alt.Scale(domain=[-6,2])\n",
    "    ),\n",
    "    alt.Y(\n",
    "        \"effect_mastomys\",\n",
    "        axis=alt.Axis(\n",
    "            title=\"functional score measured in mastomysDAG1 expressing cells\", \n",
    "            titleFontSize=12,\n",
    "            values=[-6, -4, -2, 0, 2],\n",
    "            domainWidth=1,\n",
    "            domainColor=\"black\",\n",
    "            tickColor=\"black\",\n",
    "        ),\n",
    "        scale=alt.Scale(domain=[-6,2])\n",
    "    ),\n",
    "    opacity=alt.condition(\n",
    "        alt.datum.average_times_seen < selector,\n",
    "        alt.value(0.1),\n",
    "        alt.value(1)\n",
    "    ),\n",
    "    tooltip=[\n",
    "        \"site\",\n",
    "        \"wildtype\",\n",
    "        \"mutant\",\n",
    "        \"effect_human\",\n",
    "        \"times_seen_human\",\n",
    "        \"n_selections_human\",\n",
    "        \"effect_mastomys\",\n",
    "        \"times_seen_mastomys\",\n",
    "        \"n_selections_mastomys\"\n",
    "    ],\n",
    ").add_params(\n",
    "   selector\n",
    ").configure_axis(\n",
    "    grid=False\n",
    ").properties(\n",
    "    width=500,\n",
    "    height=500\n",
    ")"
   ]
  }
 ],
 "metadata": {
  "kernelspec": {
   "display_name": "Python 3 (ipykernel)",
   "language": "python",
   "name": "python3"
  },
  "language_info": {
   "codemirror_mode": {
    "name": "ipython",
    "version": 3
   },
   "file_extension": ".py",
   "mimetype": "text/x-python",
   "name": "python",
   "nbconvert_exporter": "python",
   "pygments_lexer": "ipython3",
   "version": "3.11.4"
  }
 },
 "nbformat": 4,
 "nbformat_minor": 5
}
