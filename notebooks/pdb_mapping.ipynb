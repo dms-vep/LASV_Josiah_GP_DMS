{
 "cells": [
  {
   "cell_type": "markdown",
   "id": "3bab6508-4b92-4da1-a9e8-bfef44231f2a",
   "metadata": {},
   "source": [
    "# Convert escape and functional scores to polyclonal b factors for PDB viewing"
   ]
  },
  {
   "cell_type": "code",
   "execution_count": null,
   "id": "bbc054a5-bda7-489c-a6d4-0e7d217fcd50",
   "metadata": {},
   "outputs": [],
   "source": [
    "# Imports\n",
    "import pandas as pd\n",
    "import polyclonal"
   ]
  },
  {
   "cell_type": "code",
   "execution_count": null,
   "id": "7e9e4c56-ffb6-4e8c-9d85-a2a618beda04",
   "metadata": {},
   "outputs": [],
   "source": [
    "func_scores_data_file = \"../results/func_effects/averages/293T_entry_func_effects.csv\"\n",
    "input_pdb_file = \"../data/7puy.pdb\""
   ]
  },
  {
   "cell_type": "code",
   "execution_count": null,
   "id": "e622c2ba-e49c-4817-8821-9778b6725775",
   "metadata": {},
   "outputs": [],
   "source": [
    "def functional_scores_to_b_factors(input_pdb_file, output_pdb_file, score_metric, n_models, times_seen, func_scores_file):\n",
    "    \"\"\"\n",
    "    Function to map funcitonal scores to a pdb structure\n",
    "    using mut_escape_pdb_b_factor function from polyclonal.\n",
    "    \"\"\"\n",
    "    \n",
    "    functional_scores = pd.read_csv(func_scores_file)\n",
    "    \n",
    "    functional_scores = (\n",
    "        functional_scores.query(\n",
    "            \"n_selections >= @n_models and times_seen >= @times_seen\"\n",
    "        )\n",
    "        .drop(columns=[\"mutant\", \"times_seen\", \"wildtype\"])\n",
    "        .groupby([\"site\"])\n",
    "        .aggregate({\n",
    "            \"effect\" : score_metric\n",
    "        })\n",
    "        .reset_index()\n",
    "    )\n",
    "\n",
    "    functional_scores[\"effect\"] = functional_scores[\"effect\"]\n",
    "    \n",
    "    functional_scores_aA = functional_scores.copy()\n",
    "    functional_scores_bB = functional_scores.copy()\n",
    "    functional_scores_cC = functional_scores.copy()\n",
    "    \n",
    "    functional_scores_aA[\"chain\"] = (\n",
    "        functional_scores_aA.apply(lambda x: \"A\" if x[\"site\"] <= 259 else \"a\", axis=1)\n",
    "    )\n",
    "    \n",
    "    functional_scores_bB[\"chain\"] = (\n",
    "        functional_scores_bB.apply(lambda x: \"B\" if x[\"site\"] <= 259 else \"b\", axis=1)\n",
    "    )\n",
    "    \n",
    "    functional_scores_cC[\"chain\"] = (\n",
    "        functional_scores_cC.apply(lambda x: \"C\" if x[\"site\"] <= 259 else \"c\", axis=1)\n",
    "    )\n",
    "    \n",
    "    functional_scores = (\n",
    "        pd.concat([\n",
    "            functional_scores_aA,\n",
    "            functional_scores_bB,\n",
    "            functional_scores_cC,\n",
    "        ], ignore_index=True)\n",
    "    )\n",
    "\n",
    "    functional_scores = functional_scores.astype({\"site\" : \"int\"}) \n",
    "\n",
    "    print(functional_scores[\"effect\"].quantile(0.50))\n",
    "\n",
    "    polyclonal.pdb_utils.reassign_b_factor(\n",
    "        input_pdbfile=input_pdb_file,\n",
    "        output_pdbfile=output_pdb_file,\n",
    "        df=functional_scores,\n",
    "        metric_col=\"effect\",\n",
    "        site_col=\"site\",\n",
    "        chain_col=\"chain\",\n",
    "        missing_metric=0,\n",
    "    )"
   ]
  },
  {
   "cell_type": "code",
   "execution_count": null,
   "id": "f09a51be-c832-42e5-aa83-63a3003aff32",
   "metadata": {},
   "outputs": [],
   "source": [
    "score_metric = \"sum\"\n",
    "times_seen = 3\n",
    "n_models = 8\n",
    "\n",
    "# Functional scores mapped to pdb structure\n",
    "functional_output = \"functional_scores.pdb\"\n",
    "functional_scores_to_b_factors(input_pdb_file, functional_output, score_metric, n_models, times_seen, func_scores_data_file)"
   ]
  },
  {
   "cell_type": "code",
   "execution_count": null,
   "id": "3391a8f9-ad90-404e-ba70-ef74cf86c086",
   "metadata": {},
   "outputs": [],
   "source": []
  }
 ],
 "metadata": {
  "kernelspec": {
   "display_name": "Python 3 (ipykernel)",
   "language": "python",
   "name": "python3"
  },
  "language_info": {
   "codemirror_mode": {
    "name": "ipython",
    "version": 3
   },
   "file_extension": ".py",
   "mimetype": "text/x-python",
   "name": "python",
   "nbconvert_exporter": "python",
   "pygments_lexer": "ipython3",
   "version": "3.11.4"
  }
 },
 "nbformat": 4,
 "nbformat_minor": 5
}
