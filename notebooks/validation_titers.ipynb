{
 "cells": [
  {
   "cell_type": "markdown",
   "id": "930a773b-add3-4e52-9724-81761cd06bc2",
   "metadata": {},
   "source": [
    "# Single mutant pseudovirus titers versus functional scores\n",
    "\n",
    "Compare actual measured values for specific mutants to the scores measured with DMS."
   ]
  },
  {
   "cell_type": "code",
   "execution_count": null,
   "id": "27d240d5-0631-4e59-97fb-d671f09cc0df",
   "metadata": {},
   "outputs": [],
   "source": [
    "# Imports\n",
    "import warnings\n",
    "import numpy as np\n",
    "import pandas as pd\n",
    "import scipy as sp\n",
    "import seaborn as sns\n",
    "import matplotlib.pyplot as plt\n",
    "\n",
    "# Plotting colors\n",
    "tol_muted_adjusted = [\n",
    "    \"#000000\",\n",
    "    \"#CC6677\", \n",
    "    \"#1f78b4\", \n",
    "    \"#DDCC77\", \n",
    "    \"#117733\", \n",
    "    \"#882255\", \n",
    "    \"#88CCEE\",\n",
    "    \"#44AA99\", \n",
    "    \"#999933\", \n",
    "    \"#AA4499\", \n",
    "    \"#DDDDDD\",\n",
    "]\n",
    "\n",
    "# Seaborn style settings\n",
    "sns.set(rc={\"figure.dpi\":300, \"savefig.dpi\":300})\n",
    "sns.set_style(\"ticks\")\n",
    "sns.set_palette(tol_muted_adjusted)\n",
    "\n",
    "# Suppress warnings\n",
    "warnings.simplefilter(\"ignore\")"
   ]
  },
  {
   "cell_type": "markdown",
   "id": "f617c3bd-1e85-4b2d-94e1-ec40a4bae16c",
   "metadata": {},
   "source": [
    "File paths for data:"
   ]
  },
  {
   "cell_type": "code",
   "execution_count": null,
   "id": "efe389e4-1c7c-48ae-9f35-59eb263c6d10",
   "metadata": {},
   "outputs": [],
   "source": [
    "validation_titers_path = \"data/single_mutant_functional_validations.csv\"\n",
    "functional_scores_path = \"results/func_effects/averages/293T_entry_func_effects.csv\""
   ]
  },
  {
   "cell_type": "code",
   "execution_count": null,
   "id": "161439ac-fa4d-4c6f-a114-848feafdf147",
   "metadata": {},
   "outputs": [],
   "source": [
    "# Read titer data\n",
    "validation_titers = pd.read_csv(validation_titers_path, na_filter=None)\n",
    "\n",
    "# Calculate log2 fold change\n",
    "validation_titers[\"log2 fold change\"] = np.log2(validation_titers[\"Fold change relative to unmutated median\"])\n",
    "\n",
    "validation_titers"
   ]
  },
  {
   "cell_type": "markdown",
   "id": "96e0162f-2c92-4c04-a5c9-7b441e613f89",
   "metadata": {},
   "source": [
    "Now get the functional scores measured by DMS:"
   ]
  },
  {
   "cell_type": "code",
   "execution_count": null,
   "id": "979ee344-4bca-4e4c-b994-7058d9c626d2",
   "metadata": {},
   "outputs": [],
   "source": [
    "# Read icXX model predictions\n",
    "functional_scores_df = pd.read_csv(functional_scores_path)\n",
    "\n",
    "# Create new column to match single mutant viruses\n",
    "functional_scores_df[\"aa_substitutions\"] = (\n",
    "    functional_scores_df[\"wildtype\"] + \n",
    "    functional_scores_df[\"site\"].astype(str) + \n",
    "    functional_scores_df[\"mutant\"]\n",
    ")\n",
    "functional_scores_df = (\n",
    "    functional_scores_df.drop(columns=[\n",
    "        \"wildtype\",\n",
    "        \"site\",\n",
    "        \"mutant\",\n",
    "    ])\n",
    ")\n",
    "\n",
    "# Merge model predictions with measured titers\n",
    "validation_vs_prediction = (\n",
    "    validation_titers.merge(\n",
    "        functional_scores_df,\n",
    "        how=\"left\",\n",
    "        on=[\"aa_substitutions\"],\n",
    "        validate=\"many_to_one\",\n",
    "    )\n",
    "    .rename(columns={\"aa_substitutions\" : \"Amino acid substitutions\"})\n",
    "    .fillna(0)\n",
    ")\n",
    "\n",
    "validation_vs_prediction"
   ]
  },
  {
   "cell_type": "code",
   "execution_count": null,
   "id": "2fd17bbb-f2e6-4d49-90fd-29357e6ffd37",
   "metadata": {},
   "outputs": [],
   "source": [
    "r, p = sp.stats.pearsonr(\n",
    "    x=validation_vs_prediction[\"effect\"], \n",
    "    y=validation_vs_prediction[\"log2 fold change\"]\n",
    ")\n",
    "print(f\"R={r}\")\n",
    "print(f\"R^2={r**2}\")\n",
    "\n",
    "# Plot predicted vs measured\n",
    "corr_chart = sns.relplot(\n",
    "    data=validation_vs_prediction,\n",
    "    x=\"effect\", \n",
    "    y=\"log2 fold change\",\n",
    "    hue=\"Amino acid substitutions\",\n",
    "    aspect=1.25,\n",
    "    s=150,\n",
    "    alpha=1,\n",
    ")\n",
    "corr_chart.axes[0,0].set_xlabel(\n",
    "    \"functional score\\nmeasured by DMS\", \n",
    "    weight=\"bold\"\n",
    ")\n",
    "corr_chart.axes[0,0].set_ylabel(\n",
    "    \"log2 pseudovirus titer fold change\\ncompared to unmutated LASV GP\", \n",
    "    weight=\"bold\"\n",
    ")\n",
    "corr_chart.axes[0,0].set_xlim(-2.5, 1.5)\n",
    "corr_chart.axes[0,0].set_ylim(-8.5, 2.5)\n",
    "corr_chart.axes[0,0].set_xticks([-2, -1, 0, 1, 2])\n",
    "corr_chart.axes[0,0].set_yticks([-8, -6, -4, -2, 0, 2])\n",
    "corr_chart.legend.set_alignment(\"left\")\n",
    "corr_chart.legend.set_title(\"Amino acid substitutions\", prop={\"weight\" : \"bold\"})\n",
    "corr_chart.axes[0,0].text(\n",
    "    -2, \n",
    "    1, \n",
    "    f\"r={r:.2f}\\nR^2={r**2:.2f}\", \n",
    "    horizontalalignment=\"left\",  \n",
    "    weight=\"bold\",\n",
    "    fontsize=12,\n",
    ")\n",
    "\n",
    "# Set square ratio\n",
    "corr_chart.axes[0,0].set_box_aspect(1)"
   ]
  }
 ],
 "metadata": {
  "kernelspec": {
   "display_name": "Python 3 (ipykernel)",
   "language": "python",
   "name": "python3"
  },
  "language_info": {
   "codemirror_mode": {
    "name": "ipython",
    "version": 3
   },
   "file_extension": ".py",
   "mimetype": "text/x-python",
   "name": "python",
   "nbconvert_exporter": "python",
   "pygments_lexer": "ipython3",
   "version": "3.11.4"
  }
 },
 "nbformat": 4,
 "nbformat_minor": 5
}
