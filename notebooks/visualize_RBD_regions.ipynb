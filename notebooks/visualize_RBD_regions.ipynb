{
 "cells": [
  {
   "cell_type": "markdown",
   "id": "3f3db1fd-5a37-46c2-b5b1-52e344ed5479",
   "metadata": {},
   "source": [
    "# Visualize alpha-dystroglycan and LAMP1 binding regions"
   ]
  },
  {
   "cell_type": "code",
   "execution_count": null,
   "id": "12f8d3c2-893d-406c-958f-e0bf1d0b96f5",
   "metadata": {},
   "outputs": [],
   "source": [
    "# Imports\n",
    "import os\n",
    "import pandas as pd\n",
    "import polyclonal"
   ]
  },
  {
   "cell_type": "code",
   "execution_count": null,
   "id": "15ab4ec4-e7d3-4020-b1cf-b36de27621ae",
   "metadata": {
    "editable": true,
    "slideshow": {
     "slide_type": ""
    },
    "tags": [
     "parameters"
    ]
   },
   "outputs": [],
   "source": [
    "# this cell is tagged as `parameters` for papermill parameterization\n",
    "func_scores = None\n",
    "\n",
    "min_times_seen = None\n",
    "n_selections = None"
   ]
  },
  {
   "cell_type": "code",
   "execution_count": null,
   "id": "ba715193-db8c-4702-97e1-6f20ec4de616",
   "metadata": {},
   "outputs": [],
   "source": [
    "# # Uncomment for running interactive\n",
    "# func_scores = \"../results/func_effects/averages/293T_entry_func_effects.csv\"\n",
    "\n",
    "# min_times_seen = 2\n",
    "# n_selections = 8"
   ]
  },
  {
   "cell_type": "code",
   "execution_count": null,
   "id": "c9da9104-53a4-419b-a5b2-0b111b748adf",
   "metadata": {},
   "outputs": [],
   "source": [
    "# Filter functional scores based on min times seen and selection number\n",
    "functional_scores = pd.read_csv(func_scores)\n",
    "\n",
    "# Add dummy phenotype column\n",
    "functional_scores[\"phenotype\"] = \"functional_effect\"\n",
    "\n",
    "functional_scores"
   ]
  },
  {
   "cell_type": "code",
   "execution_count": null,
   "id": "409eb473-477a-42e3-acde-230d2001efff",
   "metadata": {},
   "outputs": [],
   "source": [
    "# Plotting settings\n",
    "alphabet = ['R','K','H','D','E','Q','N','S','T','Y','W','F','A','I','L','M','V','G','P','C','*']\n",
    "\n",
    "addtl_tooltip_stats = [\n",
    "    \"n_selections\",\n",
    "    \"times_seen\",\n",
    "]\n",
    "\n",
    "addtl_slider_stats = {\n",
    "    \"times_seen\" : 2,\n",
    "    \"n_selections\" : 8,\n",
    "}"
   ]
  },
  {
   "cell_type": "markdown",
   "id": "e9b2a8fb-3f34-40c6-b4da-de8e8b1f4b9c",
   "metadata": {},
   "source": [
    "## Heatmap of **alpha-dystroglycan** binding residues"
   ]
  },
  {
   "cell_type": "code",
   "execution_count": null,
   "id": "2b59b327-f7a6-4f18-9a9e-1194b8fc498e",
   "metadata": {},
   "outputs": [],
   "source": [
    "# Alpha dystroglycan binding sites\n",
    "DG_sites = [\n",
    "    120,\n",
    "    121,\n",
    "    125,\n",
    "    150, # supported by 151 and 125 interactions\n",
    "    151,\n",
    "    256,\n",
    "    257,\n",
    "    258,\n",
    "]\n",
    "\n",
    "DG_chart = polyclonal.plot.lineplot_and_heatmap(\n",
    "    data_df=functional_scores,\n",
    "    stat_col=\"effect\",\n",
    "    category_col=\"phenotype\",\n",
    "    alphabet=alphabet,\n",
    "    addtl_tooltip_stats=addtl_tooltip_stats,\n",
    "    addtl_slider_stats=addtl_slider_stats,\n",
    "    init_floor_at_zero=False,\n",
    "    init_site_statistic=\"mean\",\n",
    "    show_zoombar=False,\n",
    "    show_lineplot=False,\n",
    "    sites=DG_sites,\n",
    ")\n",
    "\n",
    "DG_chart"
   ]
  },
  {
   "cell_type": "markdown",
   "id": "5b9d7887-5ae1-4955-8624-3f131e0c16f8",
   "metadata": {},
   "source": [
    "## Heatmap of **LAMP1** binding residues"
   ]
  },
  {
   "cell_type": "code",
   "execution_count": null,
   "id": "3e75da04-b5be-407c-a3ce-bb3d756b2b11",
   "metadata": {},
   "outputs": [],
   "source": [
    "# LAMP1 binding sites\n",
    "LAMP1_sites = [\n",
    "    92, # histidine triad\n",
    "    93, # histidine triad\n",
    "    172,\n",
    "    173,\n",
    "    188,\n",
    "    192,\n",
    "    195,\n",
    "    197,\n",
    "    198,\n",
    "    200,\n",
    "    201,\n",
    "    202,\n",
    "    204,\n",
    "    206,\n",
    "    207,\n",
    "    211,\n",
    "    216,\n",
    "    230, # histidine triad\n",
    "]\n",
    "\n",
    "LAMP1_chart = polyclonal.plot.lineplot_and_heatmap(\n",
    "    data_df=functional_scores,\n",
    "    stat_col=\"effect\",\n",
    "    category_col=\"phenotype\",\n",
    "    alphabet=alphabet,\n",
    "    addtl_tooltip_stats=addtl_tooltip_stats,\n",
    "    addtl_slider_stats=addtl_slider_stats,\n",
    "    init_floor_at_zero=False,\n",
    "    init_site_statistic=\"mean\",\n",
    "    show_zoombar=False,\n",
    "    show_lineplot=False,\n",
    "    sites=LAMP1_sites,\n",
    ")\n",
    "\n",
    "LAMP1_chart"
   ]
  }
 ],
 "metadata": {
  "kernelspec": {
   "display_name": "Python 3 (ipykernel)",
   "language": "python",
   "name": "python3"
  },
  "language_info": {
   "codemirror_mode": {
    "name": "ipython",
    "version": 3
   },
   "file_extension": ".py",
   "mimetype": "text/x-python",
   "name": "python",
   "nbconvert_exporter": "python",
   "pygments_lexer": "ipython3",
   "version": "3.11.4"
  }
 },
 "nbformat": 4,
 "nbformat_minor": 5
}
