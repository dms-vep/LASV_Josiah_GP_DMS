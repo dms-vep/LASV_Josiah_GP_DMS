{
 "cells": [
  {
   "cell_type": "markdown",
   "id": "28486822-852c-471a-b794-c8784237439c",
   "metadata": {},
   "source": [
    "# Visualize distribution of amino-acid variants"
   ]
  },
  {
   "cell_type": "code",
   "execution_count": null,
   "id": "14792d0c-ccbc-4883-9e3f-1ad3a55aa674",
   "metadata": {},
   "outputs": [],
   "source": [
    "# Imports\n",
    "import pandas as pd\n",
    "import altair as alt\n",
    "\n",
    "# Plotting colors\n",
    "# re-arranged for plot\n",
    "tol_muted_adjusted = [\n",
    "    \"#AA4499\",\n",
    "    \"#88CCEE\",\n",
    "    \"#EE7733\",\n",
    "    \"#44AA99\",\n",
    "    \"#1f78b4\",\n",
    "    \"#CC6677\",\n",
    "    \"#117733\",\n",
    "    \"#999933\",\n",
    "    \"#DDCC77\",\n",
    "    \"#CC3311\",\n",
    "    \"#882255\",\n",
    "    \"#000000\",\n",
    "    \"#DDDDDD\",\n",
    "]\n",
    "\n",
    "# Allow more rows for Altair\n",
    "_ = alt.data_transformers.disable_max_rows()"
   ]
  },
  {
   "cell_type": "code",
   "execution_count": null,
   "id": "b8ba3af1-b0b3-439f-b307-2332e06df382",
   "metadata": {
    "editable": true,
    "slideshow": {
     "slide_type": ""
    },
    "tags": [
     "parameters"
    ]
   },
   "outputs": [],
   "source": [
    "# this cell is tagged as `parameters` for papermill parameterization\n",
    "variant_data = None"
   ]
  },
  {
   "cell_type": "code",
   "execution_count": null,
   "id": "0ce94423-e6cf-4f14-8a47-58c5fc5b44b3",
   "metadata": {
    "editable": true,
    "slideshow": {
     "slide_type": ""
    },
    "tags": []
   },
   "outputs": [],
   "source": [
    "# # Uncomment for running interactive\n",
    "# variant_data = \"../results/variants/codon_variants.csv\""
   ]
  },
  {
   "cell_type": "code",
   "execution_count": null,
   "id": "725e83c5-0af0-41d8-b5a0-94309736ed79",
   "metadata": {
    "editable": true,
    "slideshow": {
     "slide_type": ""
    },
    "tags": []
   },
   "outputs": [],
   "source": [
    "# Load data\n",
    "variant_df = pd.read_csv(variant_data)\n",
    "\n",
    "# Group all variants with >= 8 amino-acid mutations\n",
    "variant_df[\"n_aa_substitutions\"] = variant_df[\"n_aa_substitutions\"].apply(lambda x: 8 if x >= 8 else x)\n",
    "\n",
    "distribution_plot = alt.Chart(variant_df).mark_bar(color=\"#000000\", size=7).encode(\n",
    "    x=alt.X(\n",
    "        \"n_aa_substitutions\", \n",
    "        axis=alt.Axis(\n",
    "            title=\"AA muts\",\n",
    "            values=[0, 1, 2, 3, 4, 5, 6, 7, 8],\n",
    "            domainWidth=1,\n",
    "            domainColor=\"black\",\n",
    "            tickColor=\"black\",\n",
    "            labelFontSize=8,\n",
    "            labelFontWeight=\"normal\",\n",
    "            titleFontWeight=\"normal\",\n",
    "        ),\n",
    "    ),\n",
    "    y=alt.Y(\n",
    "        \"count()\",\n",
    "        axis=alt.Axis(\n",
    "            title=\"number of variants\",\n",
    "            values=[0, 5000, 10000, 15000],\n",
    "            domainWidth=1,\n",
    "            domainColor=\"black\",\n",
    "            tickColor=\"black\",\n",
    "            labelFontSize=8,\n",
    "            labelFontWeight=\"normal\",\n",
    "            titleFontWeight=\"normal\",\n",
    "        ),\n",
    "        scale=alt.Scale(domain=[0,15000]),\n",
    "    ),\n",
    "    facet=alt.Facet(\n",
    "        \"library\", \n",
    "        title=None, \n",
    "        columns=2,\n",
    "        header=alt.Header(\n",
    "            labelFontSize=8,\n",
    "            labelFontWeight=\"bold\",\n",
    "        ),\n",
    "    ),\n",
    ").properties(\n",
    "    width=75, \n",
    "    height=100,\n",
    ").configure_axis(\n",
    "    grid=False,\n",
    "    labelFontSize=8,\n",
    "    titleFontSize=8,\n",
    "    labelFontWeight=\"normal\",\n",
    ") \n",
    "\n",
    "distribution_plot"
   ]
  }
 ],
 "metadata": {
  "kernelspec": {
   "display_name": "Python 3 (ipykernel)",
   "language": "python",
   "name": "python3"
  },
  "language_info": {
   "codemirror_mode": {
    "name": "ipython",
    "version": 3
   },
   "file_extension": ".py",
   "mimetype": "text/x-python",
   "name": "python",
   "nbconvert_exporter": "python",
   "pygments_lexer": "ipython3",
   "version": "3.11.6"
  }
 },
 "nbformat": 4,
 "nbformat_minor": 5
}
